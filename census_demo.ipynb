{
 "cells": [
  {
   "cell_type": "code",
   "execution_count": 1,
   "id": "4f10d38e-bc2c-4f3f-8472-b4c24e288f3e",
   "metadata": {},
   "outputs": [],
   "source": [
    "import pandas as pd\n",
    "import matplotlib.pyplot as plt\n",
    "import seaborn as sns\n",
    "import numpy as np\n",
    "from scipy.stats import randint\n",
    "\n",
    "from catboost import CatBoostRegressor\n",
    "from catboost import CatBoostClassifier\n",
    "from sklearn.model_selection import RandomizedSearchCV\n",
    "\n",
    "from sklearn.metrics import accuracy_score,classification_report\n"
   ]
  },
  {
   "cell_type": "code",
   "execution_count": 2,
   "id": "3f60c4f7-540e-4da3-a678-7cfea4cc5f11",
   "metadata": {},
   "outputs": [],
   "source": [
    "\n",
    "def read_lines_from_file(file_path):\n",
    "    \n",
    "    try:\n",
    "        with open(file_path, 'r') as file:\n",
    "            lines = file.readlines()\n",
    "        \n",
    "    except FileNotFoundError:\n",
    "        print(f\"Error: The file '{file_path}' was not found.\")\n",
    "    except Exception as e:\n",
    "        print(f\"An error occurred: {e}\")\n",
    "\n",
    "    return lines\n",
    "    \n",
    "def extract_metadata_from_file(file):\n",
    "\n",
    "    lines = read_lines_from_file(file)\n",
    "    \n",
    "    # remote commented lines and newline characters\n",
    "    lines_meta = [ x.strip() for x in lines if x[0] not in ['|', '-']][1:]\n",
    "\n",
    "    lines_meta = [ x for x in lines_meta if x[0] != '']\n",
    "\n",
    "    # extract the meta data as a dict\n",
    "    meta_dict = {}\n",
    "\n",
    "    for idx,this_col in enumerate(lines_meta):\n",
    "        key_name = this_col.split(':')[0]\n",
    "        key_vals = this_col.split(':')[1]\n",
    "\n",
    "        vals_dict = {}\n",
    "        \n",
    "        vals_dict['values'] = key_vals.split(',')\n",
    "        vals_dict['id'] = idx\n",
    "        \n",
    "        if 'continuous' in key_vals:\n",
    "            vals_dict['is_categorical'] = False\n",
    "        else:\n",
    "            vals_dict['is_categorical'] = True\n",
    "\n",
    "        meta_dict[key_name] = vals_dict\n",
    "    \n",
    "    return meta_dict\n",
    "\n"
   ]
  },
  {
   "cell_type": "markdown",
   "id": "f6dcf282-9b8f-4042-be8c-cee996368238",
   "metadata": {},
   "source": [
    "## Import Census Data "
   ]
  },
  {
   "cell_type": "code",
   "execution_count": 62,
   "id": "dcad2ab2-4f3d-4e91-8281-9c11b7839e3f",
   "metadata": {
    "scrolled": true
   },
   "outputs": [
    {
     "data": {
      "text/html": [
       "<div>\n",
       "<style scoped>\n",
       "    .dataframe tbody tr th:only-of-type {\n",
       "        vertical-align: middle;\n",
       "    }\n",
       "\n",
       "    .dataframe tbody tr th {\n",
       "        vertical-align: top;\n",
       "    }\n",
       "\n",
       "    .dataframe thead th {\n",
       "        text-align: right;\n",
       "    }\n",
       "</style>\n",
       "<table border=\"1\" class=\"dataframe\">\n",
       "  <thead>\n",
       "    <tr style=\"text-align: right;\">\n",
       "      <th></th>\n",
       "      <th>age</th>\n",
       "      <th>class of worker</th>\n",
       "      <th>detailed industry recode</th>\n",
       "      <th>detailed occupation recode</th>\n",
       "      <th>education</th>\n",
       "      <th>wage per hour</th>\n",
       "      <th>enroll in edu inst last wk</th>\n",
       "      <th>marital stat</th>\n",
       "      <th>major industry code</th>\n",
       "      <th>major occupation code</th>\n",
       "      <th>...</th>\n",
       "      <th>country of birth father</th>\n",
       "      <th>country of birth mother</th>\n",
       "      <th>country of birth self</th>\n",
       "      <th>citizenship</th>\n",
       "      <th>own business or self employed</th>\n",
       "      <th>fill inc questionnaire for veteran's admin</th>\n",
       "      <th>veterans benefits</th>\n",
       "      <th>weeks worked in year</th>\n",
       "      <th>year</th>\n",
       "      <th>income bracket</th>\n",
       "    </tr>\n",
       "  </thead>\n",
       "  <tbody>\n",
       "    <tr>\n",
       "      <th>0</th>\n",
       "      <td>73</td>\n",
       "      <td>Not in universe</td>\n",
       "      <td>0</td>\n",
       "      <td>0</td>\n",
       "      <td>High school graduate</td>\n",
       "      <td>0</td>\n",
       "      <td>Not in universe</td>\n",
       "      <td>Widowed</td>\n",
       "      <td>Not in universe or children</td>\n",
       "      <td>Not in universe</td>\n",
       "      <td>...</td>\n",
       "      <td>United-States</td>\n",
       "      <td>United-States</td>\n",
       "      <td>United-States</td>\n",
       "      <td>Native- Born in the United States</td>\n",
       "      <td>0</td>\n",
       "      <td>Not in universe</td>\n",
       "      <td>2</td>\n",
       "      <td>0</td>\n",
       "      <td>95</td>\n",
       "      <td>- 50000.</td>\n",
       "    </tr>\n",
       "    <tr>\n",
       "      <th>1</th>\n",
       "      <td>58</td>\n",
       "      <td>Self-employed-not incorporated</td>\n",
       "      <td>4</td>\n",
       "      <td>34</td>\n",
       "      <td>Some college but no degree</td>\n",
       "      <td>0</td>\n",
       "      <td>Not in universe</td>\n",
       "      <td>Divorced</td>\n",
       "      <td>Construction</td>\n",
       "      <td>Precision production craft &amp; repair</td>\n",
       "      <td>...</td>\n",
       "      <td>United-States</td>\n",
       "      <td>United-States</td>\n",
       "      <td>United-States</td>\n",
       "      <td>Native- Born in the United States</td>\n",
       "      <td>0</td>\n",
       "      <td>Not in universe</td>\n",
       "      <td>2</td>\n",
       "      <td>52</td>\n",
       "      <td>94</td>\n",
       "      <td>- 50000.</td>\n",
       "    </tr>\n",
       "    <tr>\n",
       "      <th>2</th>\n",
       "      <td>18</td>\n",
       "      <td>Not in universe</td>\n",
       "      <td>0</td>\n",
       "      <td>0</td>\n",
       "      <td>10th grade</td>\n",
       "      <td>0</td>\n",
       "      <td>High school</td>\n",
       "      <td>Never married</td>\n",
       "      <td>Not in universe or children</td>\n",
       "      <td>Not in universe</td>\n",
       "      <td>...</td>\n",
       "      <td>Vietnam</td>\n",
       "      <td>Vietnam</td>\n",
       "      <td>Vietnam</td>\n",
       "      <td>Foreign born- Not a citizen of U S</td>\n",
       "      <td>0</td>\n",
       "      <td>Not in universe</td>\n",
       "      <td>2</td>\n",
       "      <td>0</td>\n",
       "      <td>95</td>\n",
       "      <td>- 50000.</td>\n",
       "    </tr>\n",
       "    <tr>\n",
       "      <th>3</th>\n",
       "      <td>9</td>\n",
       "      <td>Not in universe</td>\n",
       "      <td>0</td>\n",
       "      <td>0</td>\n",
       "      <td>Children</td>\n",
       "      <td>0</td>\n",
       "      <td>Not in universe</td>\n",
       "      <td>Never married</td>\n",
       "      <td>Not in universe or children</td>\n",
       "      <td>Not in universe</td>\n",
       "      <td>...</td>\n",
       "      <td>United-States</td>\n",
       "      <td>United-States</td>\n",
       "      <td>United-States</td>\n",
       "      <td>Native- Born in the United States</td>\n",
       "      <td>0</td>\n",
       "      <td>Not in universe</td>\n",
       "      <td>0</td>\n",
       "      <td>0</td>\n",
       "      <td>94</td>\n",
       "      <td>- 50000.</td>\n",
       "    </tr>\n",
       "    <tr>\n",
       "      <th>4</th>\n",
       "      <td>10</td>\n",
       "      <td>Not in universe</td>\n",
       "      <td>0</td>\n",
       "      <td>0</td>\n",
       "      <td>Children</td>\n",
       "      <td>0</td>\n",
       "      <td>Not in universe</td>\n",
       "      <td>Never married</td>\n",
       "      <td>Not in universe or children</td>\n",
       "      <td>Not in universe</td>\n",
       "      <td>...</td>\n",
       "      <td>United-States</td>\n",
       "      <td>United-States</td>\n",
       "      <td>United-States</td>\n",
       "      <td>Native- Born in the United States</td>\n",
       "      <td>0</td>\n",
       "      <td>Not in universe</td>\n",
       "      <td>0</td>\n",
       "      <td>0</td>\n",
       "      <td>94</td>\n",
       "      <td>- 50000.</td>\n",
       "    </tr>\n",
       "  </tbody>\n",
       "</table>\n",
       "<p>5 rows × 42 columns</p>\n",
       "</div>"
      ],
      "text/plain": [
       "   age                  class of worker  detailed industry recode  \\\n",
       "0   73                  Not in universe                         0   \n",
       "1   58   Self-employed-not incorporated                         4   \n",
       "2   18                  Not in universe                         0   \n",
       "3    9                  Not in universe                         0   \n",
       "4   10                  Not in universe                         0   \n",
       "\n",
       "   detailed occupation recode                    education  wage per hour  \\\n",
       "0                           0         High school graduate              0   \n",
       "1                          34   Some college but no degree              0   \n",
       "2                           0                   10th grade              0   \n",
       "3                           0                     Children              0   \n",
       "4                           0                     Children              0   \n",
       "\n",
       "  enroll in edu inst last wk    marital stat           major industry code  \\\n",
       "0            Not in universe         Widowed   Not in universe or children   \n",
       "1            Not in universe        Divorced                  Construction   \n",
       "2                High school   Never married   Not in universe or children   \n",
       "3            Not in universe   Never married   Not in universe or children   \n",
       "4            Not in universe   Never married   Not in universe or children   \n",
       "\n",
       "                  major occupation code  ... country of birth father  \\\n",
       "0                       Not in universe  ...           United-States   \n",
       "1   Precision production craft & repair  ...           United-States   \n",
       "2                       Not in universe  ...                 Vietnam   \n",
       "3                       Not in universe  ...           United-States   \n",
       "4                       Not in universe  ...           United-States   \n",
       "\n",
       "  country of birth mother country of birth self  \\\n",
       "0           United-States         United-States   \n",
       "1           United-States         United-States   \n",
       "2                 Vietnam               Vietnam   \n",
       "3           United-States         United-States   \n",
       "4           United-States         United-States   \n",
       "\n",
       "                            citizenship own business or self employed  \\\n",
       "0     Native- Born in the United States                             0   \n",
       "1     Native- Born in the United States                             0   \n",
       "2   Foreign born- Not a citizen of U S                              0   \n",
       "3     Native- Born in the United States                             0   \n",
       "4     Native- Born in the United States                             0   \n",
       "\n",
       "  fill inc questionnaire for veteran's admin  veterans benefits  \\\n",
       "0                            Not in universe                  2   \n",
       "1                            Not in universe                  2   \n",
       "2                            Not in universe                  2   \n",
       "3                            Not in universe                  0   \n",
       "4                            Not in universe                  0   \n",
       "\n",
       "   weeks worked in year  year income bracket  \n",
       "0                     0    95       - 50000.  \n",
       "1                    52    94       - 50000.  \n",
       "2                     0    95       - 50000.  \n",
       "3                     0    94       - 50000.  \n",
       "4                     0    94       - 50000.  \n",
       "\n",
       "[5 rows x 42 columns]"
      ]
     },
     "execution_count": 62,
     "metadata": {},
     "output_type": "execute_result"
    }
   ],
   "source": [
    "df_test = pd.read_csv('census_income_test.csv',index_col=False,header=None)\n",
    "df_train = pd.read_csv('census_income_learn.csv',index_col=False,header=None)\n",
    "\n",
    "# load the metadata file\n",
    "file_path = 'census_income_metadata.txt'\n",
    "meta_dict = extract_metadata_from_file(file_path)\n",
    "\n",
    "# generate a better labeled list for the column names\n",
    "columns_names = list(meta_dict.keys())\n",
    "columns_names.append('income bracket')\n",
    "\n",
    "df_train.columns = columns_names\n",
    "df_test.columns = columns_names\n",
    "\n",
    "df_train.head()"
   ]
  },
  {
   "cell_type": "code",
   "execution_count": 51,
   "id": "0b521816-db8b-4755-aa67-62cb79b4d8a2",
   "metadata": {},
   "outputs": [
    {
     "data": {
      "text/plain": [
       "503"
      ]
     },
     "execution_count": 51,
     "metadata": {},
     "output_type": "execute_result"
    }
   ],
   "source": [
    "np.sum([len(meta_dict[x]['values']) for x in meta_dict.keys()])"
   ]
  },
  {
   "cell_type": "code",
   "execution_count": 24,
   "id": "55448711-4c61-42db-ad4e-95095b8d2890",
   "metadata": {},
   "outputs": [
    {
     "data": {
      "text/plain": [
       "(array([0, 1, 2, 3, 4, 5, 6]),\n",
       " [Text(0, 0, ' Divorced'),\n",
       "  Text(1, 0, ' Married-A F spouse present'),\n",
       "  Text(2, 0, ' Married-civilian spouse present'),\n",
       "  Text(3, 0, ' Married-spouse absent'),\n",
       "  Text(4, 0, ' Never married'),\n",
       "  Text(5, 0, ' Separated'),\n",
       "  Text(6, 0, ' Widowed')])"
      ]
     },
     "execution_count": 24,
     "metadata": {},
     "output_type": "execute_result"
    },
    {
     "data": {
      "image/png": "[encoded data removed]",
      "text/plain": [
       "<Figure size 640x480 with 1 Axes>"
      ]
     },
     "metadata": {},
     "output_type": "display_data"
    }
   ],
   "source": [
    "bar_colors = ['tab:red', 'tab:blue', 'tab:green', 'tab:orange', 'tab:purple', 'tab:pink', 'tab:cyan']\n",
    "df_train.groupby('marital stat').agg('count')['age'].plot(kind='bar',color=bar_colors,fontsize=12)\n",
    "\n",
    "plt.xticks(rotation=45,ha='right')"
   ]
  },
  {
   "cell_type": "code",
   "execution_count": 28,
   "id": "5484c791-5abb-4a9d-9855-685ee25d713e",
   "metadata": {},
   "outputs": [
    {
     "data": {
      "text/plain": [
       "Text(0.5, 0, 'Age')"
      ]
     },
     "execution_count": 28,
     "metadata": {},
     "output_type": "execute_result"
    },
    {
     "data": {
      "image/png": "[encoded data removed]",
      "text/plain": [
       "<Figure size 640x480 with 1 Axes>"
      ]
     },
     "metadata": {},
     "output_type": "display_data"
    }
   ],
   "source": [
    "df_train['age'].hist(bins=45,xlabelsize=12, ylabelsize=12)\n",
    "plt.xlabel('Age',fontsize=12)"
   ]
  },
  {
   "cell_type": "code",
   "execution_count": 8,
   "id": "dd2462a1-3057-401d-af69-babc67183737",
   "metadata": {},
   "outputs": [
    {
     "data": {
      "text/plain": [
       "['age',\n",
       " 'class of worker',\n",
       " 'detailed industry recode',\n",
       " 'detailed occupation recode',\n",
       " 'education',\n",
       " 'wage per hour',\n",
       " 'enroll in edu inst last wk',\n",
       " 'marital stat',\n",
       " 'major industry code',\n",
       " 'major occupation code',\n",
       " 'race',\n",
       " 'hispanic origin',\n",
       " 'sex',\n",
       " 'member of a labor union',\n",
       " 'reason for unemployment',\n",
       " 'full or part time employment stat',\n",
       " 'capital gains',\n",
       " 'capital losses',\n",
       " 'dividends from stocks',\n",
       " 'tax filer stat',\n",
       " 'region of previous residence',\n",
       " 'state of previous residence',\n",
       " 'detailed household and family stat',\n",
       " 'detailed household summary in household',\n",
       " 'instance weight',\n",
       " 'migration code-change in msa',\n",
       " 'migration code-change in reg',\n",
       " 'migration code-move within reg',\n",
       " 'live in this house 1 year ago',\n",
       " 'migration prev res in sunbelt',\n",
       " 'num persons worked for employer',\n",
       " 'family members under 18',\n",
       " 'country of birth father',\n",
       " 'country of birth mother',\n",
       " 'country of birth self',\n",
       " 'citizenship',\n",
       " 'own business or self employed',\n",
       " \"fill inc questionnaire for veteran's admin\",\n",
       " 'veterans benefits',\n",
       " 'weeks worked in year',\n",
       " 'year',\n",
       " 'income bracket']"
      ]
     },
     "execution_count": 8,
     "metadata": {},
     "output_type": "execute_result"
    }
   ],
   "source": [
    "columns_names"
   ]
  },
  {
   "cell_type": "markdown",
   "id": "dc878ce0-c433-43d8-a44c-08885683e807",
   "metadata": {},
   "source": [
    "## Class Imbalance in Target"
   ]
  },
  {
   "cell_type": "code",
   "execution_count": 44,
   "id": "c215f08d-cdeb-4860-988b-2221c0d64103",
   "metadata": {},
   "outputs": [
    {
     "data": {
      "text/plain": [
       "Text(0.5, 0, ' ')"
      ]
     },
     "execution_count": 44,
     "metadata": {},
     "output_type": "execute_result"
    },
    {
     "data": {
      "image/png": "[encoded data removed]",
      "text/plain": [
       "<Figure size 640x480 with 1 Axes>"
      ]
     },
     "metadata": {},
     "output_type": "display_data"
    }
   ],
   "source": [
    "df_train['income bracket'].value_counts().plot.pie(label=None)\n",
    "\n",
    "plt.title('Class (income) Breakdown', fontsize=16)\n",
    "plt.legend(df_train['income bracket'].value_counts().index,fontsize=12)\n",
    "plt.ylabel('', fontsize=16)\n",
    "plt.xlabel(' ', fontsize=16)"
   ]
  },
  {
   "cell_type": "code",
   "execution_count": null,
   "id": "c2935141-8669-42a7-8d4c-622224a51ff8",
   "metadata": {},
   "outputs": [],
   "source": []
  },
  {
   "cell_type": "code",
   "execution_count": 53,
   "id": "fdd5fbde-471c-4cd0-a8b7-309493990ecb",
   "metadata": {},
   "outputs": [
    {
     "data": {
      "text/plain": [
       "93.79419916500854"
      ]
     },
     "execution_count": 53,
     "metadata": {},
     "output_type": "execute_result"
    }
   ],
   "source": [
    "# Percent of Target for < $50,000 \n",
    "class_counts = df_train['income bracket'].value_counts() \n",
    "class_counts[' - 50000.']/(class_counts[' 50000+.']+class_counts[' - 50000.'])*100"
   ]
  },
  {
   "cell_type": "code",
   "execution_count": 54,
   "id": "f18f1ff7-4069-4d50-b2e5-c21512384a47",
   "metadata": {},
   "outputs": [
    {
     "data": {
      "text/plain": [
       "income bracket\n",
       "- 50000.    187141\n",
       "50000+.      12382\n",
       "Name: count, dtype: int64"
      ]
     },
     "execution_count": 54,
     "metadata": {},
     "output_type": "execute_result"
    }
   ],
   "source": [
    "class_counts"
   ]
  },
  {
   "cell_type": "code",
   "execution_count": null,
   "id": "c60e3c43-0e4b-46ab-b2d5-a6045f6bd9fd",
   "metadata": {},
   "outputs": [],
   "source": []
  },
  {
   "cell_type": "markdown",
   "id": "d87f45cd-6ccb-4b37-81b0-c5f6f1e38f08",
   "metadata": {},
   "source": [
    "## Model Training - Unbalanced Data"
   ]
  },
  {
   "cell_type": "code",
   "execution_count": 57,
   "id": "a5627195-4d92-4e3c-a854-e9fec6780798",
   "metadata": {},
   "outputs": [],
   "source": [
    "# get all categorical columns from the me adata\n",
    "cat_columns = [meta_dict[x]['id'] for x in meta_dict.keys() if meta_dict[x]['is_categorical']]\n",
    "numer_columns = [meta_dict[x]['id'] for x in meta_dict.keys() if not meta_dict[x]['is_categorical']]\n"
   ]
  },
  {
   "cell_type": "code",
   "execution_count": 60,
   "id": "35f3255d-4e86-4eee-b661-369b9eb47526",
   "metadata": {},
   "outputs": [
    {
     "name": "stdout",
     "output_type": "stream",
     "text": [
      "0:\tlearn: 0.1530219\ttotal: 166ms\tremaining: 664ms\n",
      "1:\tlearn: 0.1333924\ttotal: 262ms\tremaining: 393ms\n",
      "2:\tlearn: 0.1249532\ttotal: 356ms\tremaining: 238ms\n",
      "3:\tlearn: 0.1225991\ttotal: 461ms\tremaining: 115ms\n",
      "4:\tlearn: 0.1198147\ttotal: 541ms\tremaining: 0us\n"
     ]
    },
    {
     "data": {
      "text/plain": [
       "<catboost.core.CatBoostClassifier at 0x17d084980>"
      ]
     },
     "execution_count": 60,
     "metadata": {},
     "output_type": "execute_result"
    }
   ],
   "source": [
    "\n",
    "# # Initialize CatBoostRegressor\n",
    "model = CatBoostClassifier(iterations=5,\n",
    "                           learning_rate=1,\n",
    "                           cat_features=cat_columns,\n",
    "                           max_depth=8)\n",
    "\n",
    "# # Fit model\n",
    "model.fit(df_train[df_train.columns[:41]], df_train[df_train.columns[41]])\n"
   ]
  },
  {
   "cell_type": "markdown",
   "id": "4a276abc-62ff-4f8d-83f3-fa709fde220c",
   "metadata": {},
   "source": [
    "### Model Evaluation"
   ]
  },
  {
   "cell_type": "code",
   "execution_count": 63,
   "id": "16ad0f4c-bf6d-431d-83ea-58498c5ace63",
   "metadata": {},
   "outputs": [],
   "source": [
    "# Extract Evaluation (test) data\n",
    "eval_data = df_test[df_test.columns[:41]]\n",
    "y_true = df_test[df_test.columns[41]]\n",
    "\n",
    "# Generate predictions on the test data\n",
    "y_test = model.predict(eval_data)\n",
    "\n",
    "# Get predicted probabilities for each class\n",
    "preds_proba = model.predict_proba(eval_data)\n",
    "\n",
    "# Get predicted RawFormulaVal\n",
    "preds_raw = model.predict(eval_data, prediction_type='RawFormulaVal')\n"
   ]
  },
  {
   "cell_type": "code",
   "execution_count": null,
   "id": "335630af-3d32-4b88-98f6-6c2200b75f9b",
   "metadata": {},
   "outputs": [],
   "source": []
  },
  {
   "cell_type": "code",
   "execution_count": 64,
   "id": "1ecbb53b-a7a0-42d9-8015-f98133a4cc9b",
   "metadata": {
    "scrolled": true
   },
   "outputs": [
    {
     "name": "stdout",
     "output_type": "stream",
     "text": [
      "Accuracy: 0.9541709268057978\n",
      " \n",
      "              precision    recall  f1-score   support\n",
      "\n",
      "    - 50000.       0.96      0.99      0.98     93576\n",
      "     50000+.       0.71      0.44      0.55      6186\n",
      "\n",
      "    accuracy                           0.95     99762\n",
      "   macro avg       0.84      0.72      0.76     99762\n",
      "weighted avg       0.95      0.95      0.95     99762\n",
      "\n"
     ]
    }
   ],
   "source": [
    "accuracy = accuracy_score(y_true, y_test)\n",
    "print(f\"Accuracy: {accuracy}\")\n",
    "print(' ')\n",
    "print(classification_report(y_true, y_test))"
   ]
  },
  {
   "cell_type": "markdown",
   "id": "9aa23e14-4624-4acc-a982-aac81f1cad70",
   "metadata": {},
   "source": [
    "### Feature Importance"
   ]
  },
  {
   "cell_type": "code",
   "execution_count": 198,
   "id": "1a526825-be8b-46b1-ba30-6ff5c5589127",
   "metadata": {},
   "outputs": [
    {
     "data": {
      "text/plain": [
       "0.9541709268057978"
      ]
     },
     "execution_count": 198,
     "metadata": {},
     "output_type": "execute_result"
    }
   ],
   "source": [
    "feat_importance = model.get_feature_importance()\n",
    "preds_class = model.score(df_test[df_test.columns[:41]],df_test[41])\n",
    "\n",
    "preds_class"
   ]
  },
  {
   "cell_type": "code",
   "execution_count": 65,
   "id": "78a220ed-e206-4be7-b5c0-9cb6cf08147f",
   "metadata": {},
   "outputs": [
    {
     "data": {
      "text/plain": [
       "Text(0.5, 0, 'Feature Importance')"
      ]
     },
     "execution_count": 65,
     "metadata": {},
     "output_type": "execute_result"
    },
    {
     "data": {
      "image/png": "[encoded data removed]",
      "text/plain": [
       "<Figure size 640x480 with 1 Axes>"
      ]
     },
     "metadata": {},
     "output_type": "display_data"
    }
   ],
   "source": [
    "(pd.Series(model.get_feature_importance(), index=meta_dict.keys())\n",
    "   .nlargest(11)\n",
    "   .plot(kind='barh'))   \n",
    "plt.xlabel('Feature Importance')"
   ]
  },
  {
   "cell_type": "markdown",
   "id": "5a865e3c-9029-4422-998d-1ae8003c2ad6",
   "metadata": {},
   "source": [
    "## Hyperparameter Tuning"
   ]
  },
  {
   "cell_type": "code",
   "execution_count": 127,
   "id": "a2ec545d-ce67-4607-890d-3cc6c13a1cb1",
   "metadata": {},
   "outputs": [],
   "source": [
    "# Creating the hyperparameter grid\n",
    "param_dist = { \"learning_rate\":np.linspace(0,0.2,5),\n",
    "               \"max_depth\": randint(3, 10)}\n",
    "\n",
    "# # Initialize CatBoostRegressor\n",
    "cat_model = CatBoostClassifier(iterations=5,\n",
    "                           learning_rate=1,\n",
    "                           cat_features=cat_columns)\n",
    "\n",
    "\n",
    "#Instantiate RandomSearchCV object\n",
    "rscv = RandomizedSearchCV(cat_model , param_dist, scoring='accuracy', cv=None)\n",
    "\n",
    "cat_out = rscv.fit(df[df.columns[:41]], df[41])"
   ]
  },
  {
   "cell_type": "code",
   "execution_count": 99,
   "id": "09d1b818-7e5b-4c78-9c5a-423fbb9dfa28",
   "metadata": {
    "scrolled": true
   },
   "outputs": [
    {
     "name": "stdout",
     "output_type": "stream",
     "text": [
      "0:\tlearn: 0.3680235\ttotal: 76.8ms\tremaining: 307ms\n",
      "1:\tlearn: 0.2498993\ttotal: 156ms\tremaining: 233ms\n",
      "2:\tlearn: 0.1989132\ttotal: 227ms\tremaining: 151ms\n",
      "3:\tlearn: 0.1747121\ttotal: 294ms\tremaining: 73.4ms\n",
      "4:\tlearn: 0.1563971\ttotal: 359ms\tremaining: 0us\n",
      "0:\tlearn: 0.3680193\ttotal: 71.5ms\tremaining: 286ms\n",
      "1:\tlearn: 0.2492087\ttotal: 144ms\tremaining: 216ms\n",
      "2:\tlearn: 0.1979427\ttotal: 209ms\tremaining: 140ms\n",
      "3:\tlearn: 0.1737143\ttotal: 272ms\tremaining: 67.9ms\n",
      "4:\tlearn: 0.1562150\ttotal: 335ms\tremaining: 0us\n",
      "0:\tlearn: 0.3804033\ttotal: 71ms\tremaining: 284ms\n",
      "1:\tlearn: 0.2523246\ttotal: 140ms\tremaining: 210ms\n",
      "2:\tlearn: 0.1972035\ttotal: 213ms\tremaining: 142ms\n",
      "3:\tlearn: 0.1729449\ttotal: 277ms\tremaining: 69.1ms\n",
      "4:\tlearn: 0.1549336\ttotal: 348ms\tremaining: 0us\n",
      "0:\tlearn: 0.3890368\ttotal: 70.7ms\tremaining: 283ms\n",
      "1:\tlearn: 0.2483331\ttotal: 152ms\tremaining: 228ms\n",
      "2:\tlearn: 0.1957175\ttotal: 221ms\tremaining: 148ms\n",
      "3:\tlearn: 0.1707714\ttotal: 283ms\tremaining: 70.8ms\n",
      "4:\tlearn: 0.1550574\ttotal: 345ms\tremaining: 0us\n",
      "0:\tlearn: 0.3875993\ttotal: 74.5ms\tremaining: 298ms\n",
      "1:\tlearn: 0.2495265\ttotal: 148ms\tremaining: 222ms\n",
      "2:\tlearn: 0.1969140\ttotal: 212ms\tremaining: 142ms\n",
      "3:\tlearn: 0.1712468\ttotal: 286ms\tremaining: 71.5ms\n",
      "4:\tlearn: 0.1539252\ttotal: 351ms\tremaining: 0us\n",
      "0:\tlearn: 0.4539137\ttotal: 65.4ms\tremaining: 261ms\n",
      "1:\tlearn: 0.3186394\ttotal: 134ms\tremaining: 201ms\n",
      "2:\tlearn: 0.2427020\ttotal: 193ms\tremaining: 129ms\n",
      "3:\tlearn: 0.2071584\ttotal: 250ms\tremaining: 62.5ms\n",
      "4:\tlearn: 0.1856723\ttotal: 319ms\tremaining: 0us\n",
      "0:\tlearn: 0.4532684\ttotal: 67.3ms\tremaining: 269ms\n",
      "1:\tlearn: 0.3134559\ttotal: 139ms\tremaining: 209ms\n",
      "2:\tlearn: 0.2399561\ttotal: 201ms\tremaining: 134ms\n",
      "3:\tlearn: 0.2030257\ttotal: 260ms\tremaining: 65.1ms\n",
      "4:\tlearn: 0.1820941\ttotal: 330ms\tremaining: 0us\n",
      "0:\tlearn: 0.4414720\ttotal: 70ms\tremaining: 280ms\n",
      "1:\tlearn: 0.3048524\ttotal: 167ms\tremaining: 250ms\n",
      "2:\tlearn: 0.2351190\ttotal: 247ms\tremaining: 164ms\n",
      "3:\tlearn: 0.2007151\ttotal: 311ms\tremaining: 77.7ms\n",
      "4:\tlearn: 0.1814184\ttotal: 374ms\tremaining: 0us\n",
      "0:\tlearn: 0.4470939\ttotal: 69.4ms\tremaining: 278ms\n",
      "1:\tlearn: 0.3278706\ttotal: 136ms\tremaining: 204ms\n",
      "2:\tlearn: 0.2442821\ttotal: 198ms\tremaining: 132ms\n",
      "3:\tlearn: 0.2023169\ttotal: 255ms\tremaining: 63.7ms\n",
      "4:\tlearn: 0.1811341\ttotal: 314ms\tremaining: 0us\n",
      "0:\tlearn: 0.4457520\ttotal: 66.2ms\tremaining: 265ms\n",
      "1:\tlearn: 0.3267797\ttotal: 132ms\tremaining: 198ms\n",
      "2:\tlearn: 0.2466377\ttotal: 189ms\tremaining: 126ms\n",
      "3:\tlearn: 0.2067819\ttotal: 262ms\tremaining: 65.5ms\n",
      "4:\tlearn: 0.1863111\ttotal: 330ms\tremaining: 0us\n",
      "0:\tlearn: 0.4455721\ttotal: 45.8ms\tremaining: 183ms\n",
      "1:\tlearn: 0.2799587\ttotal: 82.6ms\tremaining: 124ms\n",
      "2:\tlearn: 0.2252007\ttotal: 128ms\tremaining: 85.5ms\n",
      "3:\tlearn: 0.1958427\ttotal: 165ms\tremaining: 41.4ms\n",
      "4:\tlearn: 0.1752411\ttotal: 210ms\tremaining: 0us\n",
      "0:\tlearn: 0.4446768\ttotal: 45.1ms\tremaining: 180ms\n",
      "1:\tlearn: 0.2798286\ttotal: 81.2ms\tremaining: 122ms\n",
      "2:\tlearn: 0.2248306\ttotal: 128ms\tremaining: 85.1ms\n",
      "3:\tlearn: 0.1947000\ttotal: 163ms\tremaining: 40.8ms\n",
      "4:\tlearn: 0.1746986\ttotal: 210ms\tremaining: 0us\n",
      "0:\tlearn: 0.4105843\ttotal: 44.4ms\tremaining: 178ms\n",
      "1:\tlearn: 0.3055055\ttotal: 82.7ms\tremaining: 124ms\n",
      "2:\tlearn: 0.2425569\ttotal: 119ms\tremaining: 79.3ms\n",
      "3:\tlearn: 0.2115775\ttotal: 165ms\tremaining: 41.2ms\n",
      "4:\tlearn: 0.1793306\ttotal: 208ms\tremaining: 0us\n",
      "0:\tlearn: 0.4085302\ttotal: 46ms\tremaining: 184ms\n",
      "1:\tlearn: 0.3117900\ttotal: 91.4ms\tremaining: 137ms\n",
      "2:\tlearn: 0.2514208\ttotal: 128ms\tremaining: 85.6ms\n",
      "3:\tlearn: 0.2025994\ttotal: 165ms\tremaining: 41.2ms\n",
      "4:\tlearn: 0.1840956\ttotal: 201ms\tremaining: 0us\n",
      "0:\tlearn: 0.4084331\ttotal: 47.1ms\tremaining: 189ms\n",
      "1:\tlearn: 0.2971552\ttotal: 90.3ms\tremaining: 135ms\n",
      "2:\tlearn: 0.2397583\ttotal: 130ms\tremaining: 86.8ms\n",
      "3:\tlearn: 0.2094458\ttotal: 167ms\tremaining: 41.8ms\n",
      "4:\tlearn: 0.1789049\ttotal: 203ms\tremaining: 0us\n",
      "0:\tlearn: 0.4968849\ttotal: 51.9ms\tremaining: 207ms\n",
      "1:\tlearn: 0.3491060\ttotal: 101ms\tremaining: 152ms\n",
      "2:\tlearn: 0.2865935\ttotal: 146ms\tremaining: 97.2ms\n",
      "3:\tlearn: 0.2436059\ttotal: 190ms\tremaining: 47.5ms\n",
      "4:\tlearn: 0.2104259\ttotal: 233ms\tremaining: 0us\n",
      "0:\tlearn: 0.4961144\ttotal: 51.1ms\tremaining: 204ms\n",
      "1:\tlearn: 0.3480938\ttotal: 104ms\tremaining: 155ms\n",
      "2:\tlearn: 0.2867001\ttotal: 155ms\tremaining: 103ms\n",
      "3:\tlearn: 0.2320187\ttotal: 199ms\tremaining: 49.8ms\n",
      "4:\tlearn: 0.2038296\ttotal: 244ms\tremaining: 0us\n",
      "0:\tlearn: 0.4625247\ttotal: 51.9ms\tremaining: 207ms\n",
      "1:\tlearn: 0.3348785\ttotal: 94.6ms\tremaining: 142ms\n",
      "2:\tlearn: 0.2572781\ttotal: 143ms\tremaining: 95.2ms\n",
      "3:\tlearn: 0.2178863\ttotal: 193ms\tremaining: 48.2ms\n",
      "4:\tlearn: 0.1948411\ttotal: 234ms\tremaining: 0us\n",
      "0:\tlearn: 0.4567961\ttotal: 52.1ms\tremaining: 208ms\n",
      "1:\tlearn: 0.3309276\ttotal: 93.8ms\tremaining: 141ms\n",
      "2:\tlearn: 0.2615282\ttotal: 145ms\tremaining: 97ms\n",
      "3:\tlearn: 0.2208469\ttotal: 196ms\tremaining: 49.1ms\n",
      "4:\tlearn: 0.1971319\ttotal: 236ms\tremaining: 0us\n",
      "0:\tlearn: 0.4562471\ttotal: 52ms\tremaining: 208ms\n",
      "1:\tlearn: 0.3305484\ttotal: 95.2ms\tremaining: 143ms\n",
      "2:\tlearn: 0.2598256\ttotal: 144ms\tremaining: 96.2ms\n",
      "3:\tlearn: 0.2202988\ttotal: 186ms\tremaining: 46.4ms\n",
      "4:\tlearn: 0.1972459\ttotal: 235ms\tremaining: 0us\n",
      "0:\tlearn: 0.4970787\ttotal: 71.3ms\tremaining: 285ms\n",
      "1:\tlearn: 0.3875487\ttotal: 149ms\tremaining: 223ms\n",
      "2:\tlearn: 0.3073557\ttotal: 216ms\tremaining: 144ms\n",
      "3:\tlearn: 0.2594337\ttotal: 286ms\tremaining: 71.5ms\n",
      "4:\tlearn: 0.2268802\ttotal: 351ms\tremaining: 0us\n",
      "0:\tlearn: 0.4973177\ttotal: 69.4ms\tremaining: 278ms\n",
      "1:\tlearn: 0.3871385\ttotal: 148ms\tremaining: 222ms\n",
      "2:\tlearn: 0.3065143\ttotal: 214ms\tremaining: 142ms\n",
      "3:\tlearn: 0.2584725\ttotal: 283ms\tremaining: 70.8ms\n",
      "4:\tlearn: 0.2252072\ttotal: 346ms\tremaining: 0us\n",
      "0:\tlearn: 0.5095182\ttotal: 73.8ms\tremaining: 295ms\n",
      "1:\tlearn: 0.4007103\ttotal: 150ms\tremaining: 225ms\n",
      "2:\tlearn: 0.3109442\ttotal: 226ms\tremaining: 151ms\n",
      "3:\tlearn: 0.2588954\ttotal: 293ms\tremaining: 73.2ms\n",
      "4:\tlearn: 0.2257479\ttotal: 368ms\tremaining: 0us\n",
      "0:\tlearn: 0.5164662\ttotal: 76.5ms\tremaining: 306ms\n",
      "1:\tlearn: 0.3891470\ttotal: 158ms\tremaining: 238ms\n",
      "2:\tlearn: 0.3096198\ttotal: 230ms\tremaining: 154ms\n",
      "3:\tlearn: 0.2550844\ttotal: 298ms\tremaining: 74.6ms\n",
      "4:\tlearn: 0.2219264\ttotal: 364ms\tremaining: 0us\n",
      "0:\tlearn: 0.5153706\ttotal: 80.1ms\tremaining: 320ms\n",
      "1:\tlearn: 0.3806092\ttotal: 165ms\tremaining: 247ms\n",
      "2:\tlearn: 0.3041233\ttotal: 235ms\tremaining: 157ms\n",
      "3:\tlearn: 0.2522847\ttotal: 299ms\tremaining: 74.8ms\n",
      "4:\tlearn: 0.2199985\ttotal: 364ms\tremaining: 0us\n",
      "0:\tlearn: 0.4253378\ttotal: 71.4ms\tremaining: 286ms\n",
      "1:\tlearn: 0.2991516\ttotal: 147ms\tremaining: 221ms\n",
      "2:\tlearn: 0.2373931\ttotal: 221ms\tremaining: 147ms\n",
      "3:\tlearn: 0.2047472\ttotal: 290ms\tremaining: 72.6ms\n",
      "4:\tlearn: 0.1827645\ttotal: 357ms\tremaining: 0us\n",
      "0:\tlearn: 0.4254897\ttotal: 71.4ms\tremaining: 285ms\n",
      "1:\tlearn: 0.2986665\ttotal: 143ms\tremaining: 215ms\n",
      "2:\tlearn: 0.2361756\ttotal: 212ms\tremaining: 141ms\n",
      "3:\tlearn: 0.2034575\ttotal: 280ms\tremaining: 70ms\n",
      "4:\tlearn: 0.1813556\ttotal: 346ms\tremaining: 0us\n",
      "0:\tlearn: 0.4387920\ttotal: 76.3ms\tremaining: 305ms\n",
      "1:\tlearn: 0.3195898\ttotal: 151ms\tremaining: 226ms\n",
      "2:\tlearn: 0.2419010\ttotal: 224ms\tremaining: 149ms\n",
      "3:\tlearn: 0.2028516\ttotal: 290ms\tremaining: 72.4ms\n",
      "4:\tlearn: 0.1806734\ttotal: 367ms\tremaining: 0us\n",
      "0:\tlearn: 0.4470939\ttotal: 72.9ms\tremaining: 292ms\n",
      "1:\tlearn: 0.3015352\ttotal: 155ms\tremaining: 232ms\n",
      "2:\tlearn: 0.2342952\ttotal: 227ms\tremaining: 151ms\n",
      "3:\tlearn: 0.1980096\ttotal: 295ms\tremaining: 73.7ms\n",
      "4:\tlearn: 0.1775832\ttotal: 358ms\tremaining: 0us\n",
      "0:\tlearn: 0.4457520\ttotal: 71.1ms\tremaining: 284ms\n",
      "1:\tlearn: 0.2992336\ttotal: 151ms\tremaining: 226ms\n",
      "2:\tlearn: 0.2326541\ttotal: 222ms\tremaining: 148ms\n",
      "3:\tlearn: 0.1970836\ttotal: 283ms\tremaining: 70.8ms\n",
      "4:\tlearn: 0.1772170\ttotal: 345ms\tremaining: 0us\n",
      "0:\tlearn: 0.4454365\ttotal: 53.4ms\tremaining: 214ms\n",
      "1:\tlearn: 0.2902503\ttotal: 105ms\tremaining: 157ms\n",
      "2:\tlearn: 0.2208326\ttotal: 158ms\tremaining: 105ms\n",
      "3:\tlearn: 0.1914797\ttotal: 203ms\tremaining: 50.8ms\n",
      "4:\tlearn: 0.1692140\ttotal: 245ms\tremaining: 0us\n",
      "0:\tlearn: 0.4445303\ttotal: 50.3ms\tremaining: 201ms\n",
      "1:\tlearn: 0.2894349\ttotal: 101ms\tremaining: 151ms\n",
      "2:\tlearn: 0.2207204\ttotal: 146ms\tremaining: 97.2ms\n",
      "3:\tlearn: 0.1916496\ttotal: 200ms\tremaining: 50ms\n",
      "4:\tlearn: 0.1690485\ttotal: 241ms\tremaining: 0us\n",
      "0:\tlearn: 0.4067541\ttotal: 51ms\tremaining: 204ms\n",
      "1:\tlearn: 0.2787489\ttotal: 93.4ms\tremaining: 140ms\n",
      "2:\tlearn: 0.2200104\ttotal: 146ms\tremaining: 97.1ms\n",
      "3:\tlearn: 0.1863049\ttotal: 194ms\tremaining: 48.6ms\n",
      "4:\tlearn: 0.1642097\ttotal: 233ms\tremaining: 0us\n",
      "0:\tlearn: 0.3998326\ttotal: 52.2ms\tremaining: 209ms\n",
      "1:\tlearn: 0.2756026\ttotal: 93.2ms\tremaining: 140ms\n",
      "2:\tlearn: 0.2154860\ttotal: 144ms\tremaining: 95.7ms\n",
      "3:\tlearn: 0.1868573\ttotal: 192ms\tremaining: 48ms\n",
      "4:\tlearn: 0.1667048\ttotal: 233ms\tremaining: 0us\n",
      "0:\tlearn: 0.3992214\ttotal: 50.7ms\tremaining: 203ms\n",
      "1:\tlearn: 0.2687460\ttotal: 96.2ms\tremaining: 144ms\n",
      "2:\tlearn: 0.2133605\ttotal: 147ms\tremaining: 98.1ms\n",
      "3:\tlearn: 0.1877796\ttotal: 188ms\tremaining: 47.1ms\n",
      "4:\tlearn: 0.1655936\ttotal: 229ms\tremaining: 0us\n",
      "0:\tlearn: 0.6010973\ttotal: 55.7ms\tremaining: 223ms\n",
      "1:\tlearn: 0.5150052\ttotal: 102ms\tremaining: 153ms\n",
      "2:\tlearn: 0.4539828\ttotal: 157ms\tremaining: 105ms\n",
      "3:\tlearn: 0.4059855\ttotal: 211ms\tremaining: 52.8ms\n",
      "4:\tlearn: 0.3625196\ttotal: 276ms\tremaining: 0us\n",
      "0:\tlearn: 0.6006579\ttotal: 56.6ms\tremaining: 226ms\n",
      "1:\tlearn: 0.5144574\ttotal: 103ms\tremaining: 155ms\n",
      "2:\tlearn: 0.4533769\ttotal: 158ms\tremaining: 106ms\n",
      "3:\tlearn: 0.4055393\ttotal: 212ms\tremaining: 53.1ms\n",
      "4:\tlearn: 0.3618768\ttotal: 277ms\tremaining: 0us\n",
      "0:\tlearn: 0.6018366\ttotal: 57.7ms\tremaining: 231ms\n",
      "1:\tlearn: 0.5251407\ttotal: 120ms\tremaining: 180ms\n",
      "2:\tlearn: 0.4634901\ttotal: 180ms\tremaining: 120ms\n",
      "3:\tlearn: 0.4182237\ttotal: 235ms\tremaining: 58.8ms\n",
      "4:\tlearn: 0.3685899\ttotal: 317ms\tremaining: 0us\n",
      "0:\tlearn: 0.6017290\ttotal: 58.5ms\tremaining: 234ms\n",
      "1:\tlearn: 0.5242742\ttotal: 123ms\tremaining: 185ms\n",
      "2:\tlearn: 0.4646407\ttotal: 179ms\tremaining: 119ms\n",
      "3:\tlearn: 0.4092465\ttotal: 237ms\tremaining: 59.4ms\n",
      "4:\tlearn: 0.3673730\ttotal: 288ms\tremaining: 0us\n",
      "0:\tlearn: 0.6010910\ttotal: 73.6ms\tremaining: 294ms\n",
      "1:\tlearn: 0.5166692\ttotal: 135ms\tremaining: 202ms\n",
      "2:\tlearn: 0.4542392\ttotal: 190ms\tremaining: 127ms\n",
      "3:\tlearn: 0.4011463\ttotal: 240ms\tremaining: 60ms\n",
      "4:\tlearn: 0.3592212\ttotal: 293ms\tremaining: 0us\n",
      "0:\tlearn: 0.6205321\ttotal: 46ms\tremaining: 184ms\n",
      "1:\tlearn: 0.5488075\ttotal: 83.5ms\tremaining: 125ms\n",
      "2:\tlearn: 0.4973828\ttotal: 130ms\tremaining: 86.9ms\n",
      "3:\tlearn: 0.4533204\ttotal: 168ms\tremaining: 42.1ms\n",
      "4:\tlearn: 0.4147842\ttotal: 206ms\tremaining: 0us\n",
      "0:\tlearn: 0.6202132\ttotal: 53.6ms\tremaining: 214ms\n",
      "1:\tlearn: 0.5483469\ttotal: 94.6ms\tremaining: 142ms\n",
      "2:\tlearn: 0.4875845\ttotal: 139ms\tremaining: 92.9ms\n",
      "3:\tlearn: 0.4348452\ttotal: 178ms\tremaining: 44.6ms\n",
      "4:\tlearn: 0.4013433\ttotal: 225ms\tremaining: 0us\n",
      "0:\tlearn: 0.6066188\ttotal: 46ms\tremaining: 184ms\n",
      "1:\tlearn: 0.5501445\ttotal: 84ms\tremaining: 126ms\n",
      "2:\tlearn: 0.4851289\ttotal: 121ms\tremaining: 80.4ms\n",
      "3:\tlearn: 0.4416097\ttotal: 157ms\tremaining: 39.3ms\n",
      "4:\tlearn: 0.4069647\ttotal: 195ms\tremaining: 0us\n",
      "0:\tlearn: 0.6059870\ttotal: 49ms\tremaining: 196ms\n",
      "1:\tlearn: 0.5323803\ttotal: 98.9ms\tremaining: 148ms\n",
      "2:\tlearn: 0.4856329\ttotal: 154ms\tremaining: 102ms\n",
      "3:\tlearn: 0.4425552\ttotal: 199ms\tremaining: 49.7ms\n",
      "4:\tlearn: 0.4047426\ttotal: 288ms\tremaining: 0us\n",
      "0:\tlearn: 0.6059200\ttotal: 51.6ms\tremaining: 206ms\n",
      "1:\tlearn: 0.5454126\ttotal: 96.4ms\tremaining: 145ms\n",
      "2:\tlearn: 0.4838868\ttotal: 137ms\tremaining: 91.3ms\n",
      "3:\tlearn: 0.4399953\ttotal: 184ms\tremaining: 46ms\n",
      "4:\tlearn: 0.3934785\ttotal: 222ms\tremaining: 0us\n"
     ]
    },
    {
     "name": "stderr",
     "output_type": "stream",
     "text": [
      "/Users/degi/opt/anaconda3/envs/geospatial/lib/python3.12/site-packages/sklearn/model_selection/_validation.py:540: FitFailedWarning: \n",
      "5 fits failed out of a total of 50.\n",
      "The score on these train-test partitions for these parameters will be set to nan.\n",
      "If these failures are not expected, you can try to debug them by setting error_score='raise'.\n",
      "\n",
      "Below are more details about the failures:\n",
      "--------------------------------------------------------------------------------\n",
      "5 fits failed with the following error:\n",
      "Traceback (most recent call last):\n",
      "  File \"/Users/degi/opt/anaconda3/envs/geospatial/lib/python3.12/site-packages/sklearn/model_selection/_validation.py\", line 888, in _fit_and_score\n",
      "    estimator.fit(X_train, y_train, **fit_params)\n",
      "  File \"/Users/degi/opt/anaconda3/envs/geospatial/lib/python3.12/site-packages/catboost/core.py\", line 5245, in fit\n",
      "    self._fit(X, y, cat_features, text_features, embedding_features, None, graph, sample_weight, None, None, None, None, baseline, use_best_model,\n",
      "  File \"/Users/degi/opt/anaconda3/envs/geospatial/lib/python3.12/site-packages/catboost/core.py\", line 2395, in _fit\n",
      "    train_params = self._prepare_train_params(\n",
      "                   ^^^^^^^^^^^^^^^^^^^^^^^^^^^\n",
      "  File \"/Users/degi/opt/anaconda3/envs/geospatial/lib/python3.12/site-packages/catboost/core.py\", line 2321, in _prepare_train_params\n",
      "    _check_train_params(params)\n",
      "  File \"_catboost.pyx\", line 6601, in _catboost._check_train_params\n",
      "  File \"_catboost.pyx\", line 6623, in _catboost._check_train_params\n",
      "_catboost.CatBoostError: catboost/private/libs/options/boosting_options.cpp:79: Learning rate should be non-zero\n",
      "\n",
      "  warnings.warn(some_fits_failed_message, FitFailedWarning)\n",
      "/Users/degi/opt/anaconda3/envs/geospatial/lib/python3.12/site-packages/sklearn/model_selection/_search.py:1103: UserWarning: One or more of the test scores are non-finite: [0.948848   0.94734441 0.9453246  0.94592603 0.94751983 0.94773535\n",
      "        nan 0.94644728 0.94603128 0.94450263]\n",
      "  warnings.warn(\n"
     ]
    },
    {
     "name": "stdout",
     "output_type": "stream",
     "text": [
      "0:\tlearn: 0.3906216\ttotal: 91.6ms\tremaining: 366ms\n",
      "1:\tlearn: 0.2532029\ttotal: 206ms\tremaining: 310ms\n",
      "2:\tlearn: 0.1985186\ttotal: 297ms\tremaining: 198ms\n",
      "3:\tlearn: 0.1717634\ttotal: 387ms\tremaining: 96.9ms\n",
      "4:\tlearn: 0.1536713\ttotal: 460ms\tremaining: 0us\n"
     ]
    },
    {
     "data": {
      "text/html": [
       "<style>#sk-container-id-2 {\n",
       "  /* Definition of color scheme common for light and dark mode */\n",
       "  --sklearn-color-text: black;\n",
       "  --sklearn-color-line: gray;\n",
       "  /* Definition of color scheme for unfitted estimators */\n",
       "  --sklearn-color-unfitted-level-0: #fff5e6;\n",
       "  --sklearn-color-unfitted-level-1: #f6e4d2;\n",
       "  --sklearn-color-unfitted-level-2: #ffe0b3;\n",
       "  --sklearn-color-unfitted-level-3: chocolate;\n",
       "  /* Definition of color scheme for fitted estimators */\n",
       "  --sklearn-color-fitted-level-0: #f0f8ff;\n",
       "  --sklearn-color-fitted-level-1: #d4ebff;\n",
       "  --sklearn-color-fitted-level-2: #b3dbfd;\n",
       "  --sklearn-color-fitted-level-3: cornflowerblue;\n",
       "\n",
       "  /* Specific color for light theme */\n",
       "  --sklearn-color-text-on-default-background: var(--sg-text-color, var(--theme-code-foreground, var(--jp-content-font-color1, black)));\n",
       "  --sklearn-color-background: var(--sg-background-color, var(--theme-background, var(--jp-layout-color0, white)));\n",
       "  --sklearn-color-border-box: var(--sg-text-color, var(--theme-code-foreground, var(--jp-content-font-color1, black)));\n",
       "  --sklearn-color-icon: #696969;\n",
       "\n",
       "  @media (prefers-color-scheme: dark) {\n",
       "    /* Redefinition of color scheme for dark theme */\n",
       "    --sklearn-color-text-on-default-background: var(--sg-text-color, var(--theme-code-foreground, var(--jp-content-font-color1, white)));\n",
       "    --sklearn-color-background: var(--sg-background-color, var(--theme-background, var(--jp-layout-color0, #111)));\n",
       "    --sklearn-color-border-box: var(--sg-text-color, var(--theme-code-foreground, var(--jp-content-font-color1, white)));\n",
       "    --sklearn-color-icon: #878787;\n",
       "  }\n",
       "}\n",
       "\n",
       "#sk-container-id-2 {\n",
       "  color: var(--sklearn-color-text);\n",
       "}\n",
       "\n",
       "#sk-container-id-2 pre {\n",
       "  padding: 0;\n",
       "}\n",
       "\n",
       "#sk-container-id-2 input.sk-hidden--visually {\n",
       "  border: 0;\n",
       "  clip: rect(1px 1px 1px 1px);\n",
       "  clip: rect(1px, 1px, 1px, 1px);\n",
       "  height: 1px;\n",
       "  margin: -1px;\n",
       "  overflow: hidden;\n",
       "  padding: 0;\n",
       "  position: absolute;\n",
       "  width: 1px;\n",
       "}\n",
       "\n",
       "#sk-container-id-2 div.sk-dashed-wrapped {\n",
       "  border: 1px dashed var(--sklearn-color-line);\n",
       "  margin: 0 0.4em 0.5em 0.4em;\n",
       "  box-sizing: border-box;\n",
       "  padding-bottom: 0.4em;\n",
       "  background-color: var(--sklearn-color-background);\n",
       "}\n",
       "\n",
       "#sk-container-id-2 div.sk-container {\n",
       "  /* jupyter's `normalize.less` sets `[hidden] { display: none; }`\n",
       "     but bootstrap.min.css set `[hidden] { display: none !important; }`\n",
       "     so we also need the `!important` here to be able to override the\n",
       "     default hidden behavior on the sphinx rendered scikit-learn.org.\n",
       "     See: https://github.com/scikit-learn/scikit-learn/issues/21755 */\n",
       "  display: inline-block !important;\n",
       "  position: relative;\n",
       "}\n",
       "\n",
       "#sk-container-id-2 div.sk-text-repr-fallback {\n",
       "  display: none;\n",
       "}\n",
       "\n",
       "div.sk-parallel-item,\n",
       "div.sk-serial,\n",
       "div.sk-item {\n",
       "  /* draw centered vertical line to link estimators */\n",
       "  background-image: linear-gradient(var(--sklearn-color-text-on-default-background), var(--sklearn-color-text-on-default-background));\n",
       "  background-size: 2px 100%;\n",
       "  background-repeat: no-repeat;\n",
       "  background-position: center center;\n",
       "}\n",
       "\n",
       "/* Parallel-specific style estimator block */\n",
       "\n",
       "#sk-container-id-2 div.sk-parallel-item::after {\n",
       "  content: \"\";\n",
       "  width: 100%;\n",
       "  border-bottom: 2px solid var(--sklearn-color-text-on-default-background);\n",
       "  flex-grow: 1;\n",
       "}\n",
       "\n",
       "#sk-container-id-2 div.sk-parallel {\n",
       "  display: flex;\n",
       "  align-items: stretch;\n",
       "  justify-content: center;\n",
       "  background-color: var(--sklearn-color-background);\n",
       "  position: relative;\n",
       "}\n",
       "\n",
       "#sk-container-id-2 div.sk-parallel-item {\n",
       "  display: flex;\n",
       "  flex-direction: column;\n",
       "}\n",
       "\n",
       "#sk-container-id-2 div.sk-parallel-item:first-child::after {\n",
       "  align-self: flex-end;\n",
       "  width: 50%;\n",
       "}\n",
       "\n",
       "#sk-container-id-2 div.sk-parallel-item:last-child::after {\n",
       "  align-self: flex-start;\n",
       "  width: 50%;\n",
       "}\n",
       "\n",
       "#sk-container-id-2 div.sk-parallel-item:only-child::after {\n",
       "  width: 0;\n",
       "}\n",
       "\n",
       "/* Serial-specific style estimator block */\n",
       "\n",
       "#sk-container-id-2 div.sk-serial {\n",
       "  display: flex;\n",
       "  flex-direction: column;\n",
       "  align-items: center;\n",
       "  background-color: var(--sklearn-color-background);\n",
       "  padding-right: 1em;\n",
       "  padding-left: 1em;\n",
       "}\n",
       "\n",
       "\n",
       "/* Toggleable style: style used for estimator/Pipeline/ColumnTransformer box that is\n",
       "clickable and can be expanded/collapsed.\n",
       "- Pipeline and ColumnTransformer use this feature and define the default style\n",
       "- Estimators will overwrite some part of the style using the `sk-estimator` class\n",
       "*/\n",
       "\n",
       "/* Pipeline and ColumnTransformer style (default) */\n",
       "\n",
       "#sk-container-id-2 div.sk-toggleable {\n",
       "  /* Default theme specific background. It is overwritten whether we have a\n",
       "  specific estimator or a Pipeline/ColumnTransformer */\n",
       "  background-color: var(--sklearn-color-background);\n",
       "}\n",
       "\n",
       "/* Toggleable label */\n",
       "#sk-container-id-2 label.sk-toggleable__label {\n",
       "  cursor: pointer;\n",
       "  display: block;\n",
       "  width: 100%;\n",
       "  margin-bottom: 0;\n",
       "  padding: 0.5em;\n",
       "  box-sizing: border-box;\n",
       "  text-align: center;\n",
       "}\n",
       "\n",
       "#sk-container-id-2 label.sk-toggleable__label-arrow:before {\n",
       "  /* Arrow on the left of the label */\n",
       "  content: \"▸\";\n",
       "  float: left;\n",
       "  margin-right: 0.25em;\n",
       "  color: var(--sklearn-color-icon);\n",
       "}\n",
       "\n",
       "#sk-container-id-2 label.sk-toggleable__label-arrow:hover:before {\n",
       "  color: var(--sklearn-color-text);\n",
       "}\n",
       "\n",
       "/* Toggleable content - dropdown */\n",
       "\n",
       "#sk-container-id-2 div.sk-toggleable__content {\n",
       "  max-height: 0;\n",
       "  max-width: 0;\n",
       "  overflow: hidden;\n",
       "  text-align: left;\n",
       "  /* unfitted */\n",
       "  background-color: var(--sklearn-color-unfitted-level-0);\n",
       "}\n",
       "\n",
       "#sk-container-id-2 div.sk-toggleable__content.fitted {\n",
       "  /* fitted */\n",
       "  background-color: var(--sklearn-color-fitted-level-0);\n",
       "}\n",
       "\n",
       "#sk-container-id-2 div.sk-toggleable__content pre {\n",
       "  margin: 0.2em;\n",
       "  border-radius: 0.25em;\n",
       "  color: var(--sklearn-color-text);\n",
       "  /* unfitted */\n",
       "  background-color: var(--sklearn-color-unfitted-level-0);\n",
       "}\n",
       "\n",
       "#sk-container-id-2 div.sk-toggleable__content.fitted pre {\n",
       "  /* unfitted */\n",
       "  background-color: var(--sklearn-color-fitted-level-0);\n",
       "}\n",
       "\n",
       "#sk-container-id-2 input.sk-toggleable__control:checked~div.sk-toggleable__content {\n",
       "  /* Expand drop-down */\n",
       "  max-height: 200px;\n",
       "  max-width: 100%;\n",
       "  overflow: auto;\n",
       "}\n",
       "\n",
       "#sk-container-id-2 input.sk-toggleable__control:checked~label.sk-toggleable__label-arrow:before {\n",
       "  content: \"▾\";\n",
       "}\n",
       "\n",
       "/* Pipeline/ColumnTransformer-specific style */\n",
       "\n",
       "#sk-container-id-2 div.sk-label input.sk-toggleable__control:checked~label.sk-toggleable__label {\n",
       "  color: var(--sklearn-color-text);\n",
       "  background-color: var(--sklearn-color-unfitted-level-2);\n",
       "}\n",
       "\n",
       "#sk-container-id-2 div.sk-label.fitted input.sk-toggleable__control:checked~label.sk-toggleable__label {\n",
       "  background-color: var(--sklearn-color-fitted-level-2);\n",
       "}\n",
       "\n",
       "/* Estimator-specific style */\n",
       "\n",
       "/* Colorize estimator box */\n",
       "#sk-container-id-2 div.sk-estimator input.sk-toggleable__control:checked~label.sk-toggleable__label {\n",
       "  /* unfitted */\n",
       "  background-color: var(--sklearn-color-unfitted-level-2);\n",
       "}\n",
       "\n",
       "#sk-container-id-2 div.sk-estimator.fitted input.sk-toggleable__control:checked~label.sk-toggleable__label {\n",
       "  /* fitted */\n",
       "  background-color: var(--sklearn-color-fitted-level-2);\n",
       "}\n",
       "\n",
       "#sk-container-id-2 div.sk-label label.sk-toggleable__label,\n",
       "#sk-container-id-2 div.sk-label label {\n",
       "  /* The background is the default theme color */\n",
       "  color: var(--sklearn-color-text-on-default-background);\n",
       "}\n",
       "\n",
       "/* On hover, darken the color of the background */\n",
       "#sk-container-id-2 div.sk-label:hover label.sk-toggleable__label {\n",
       "  color: var(--sklearn-color-text);\n",
       "  background-color: var(--sklearn-color-unfitted-level-2);\n",
       "}\n",
       "\n",
       "/* Label box, darken color on hover, fitted */\n",
       "#sk-container-id-2 div.sk-label.fitted:hover label.sk-toggleable__label.fitted {\n",
       "  color: var(--sklearn-color-text);\n",
       "  background-color: var(--sklearn-color-fitted-level-2);\n",
       "}\n",
       "\n",
       "/* Estimator label */\n",
       "\n",
       "#sk-container-id-2 div.sk-label label {\n",
       "  font-family: monospace;\n",
       "  font-weight: bold;\n",
       "  display: inline-block;\n",
       "  line-height: 1.2em;\n",
       "}\n",
       "\n",
       "#sk-container-id-2 div.sk-label-container {\n",
       "  text-align: center;\n",
       "}\n",
       "\n",
       "/* Estimator-specific */\n",
       "#sk-container-id-2 div.sk-estimator {\n",
       "  font-family: monospace;\n",
       "  border: 1px dotted var(--sklearn-color-border-box);\n",
       "  border-radius: 0.25em;\n",
       "  box-sizing: border-box;\n",
       "  margin-bottom: 0.5em;\n",
       "  /* unfitted */\n",
       "  background-color: var(--sklearn-color-unfitted-level-0);\n",
       "}\n",
       "\n",
       "#sk-container-id-2 div.sk-estimator.fitted {\n",
       "  /* fitted */\n",
       "  background-color: var(--sklearn-color-fitted-level-0);\n",
       "}\n",
       "\n",
       "/* on hover */\n",
       "#sk-container-id-2 div.sk-estimator:hover {\n",
       "  /* unfitted */\n",
       "  background-color: var(--sklearn-color-unfitted-level-2);\n",
       "}\n",
       "\n",
       "#sk-container-id-2 div.sk-estimator.fitted:hover {\n",
       "  /* fitted */\n",
       "  background-color: var(--sklearn-color-fitted-level-2);\n",
       "}\n",
       "\n",
       "/* Specification for estimator info (e.g. \"i\" and \"?\") */\n",
       "\n",
       "/* Common style for \"i\" and \"?\" */\n",
       "\n",
       ".sk-estimator-doc-link,\n",
       "a:link.sk-estimator-doc-link,\n",
       "a:visited.sk-estimator-doc-link {\n",
       "  float: right;\n",
       "  font-size: smaller;\n",
       "  line-height: 1em;\n",
       "  font-family: monospace;\n",
       "  background-color: var(--sklearn-color-background);\n",
       "  border-radius: 1em;\n",
       "  height: 1em;\n",
       "  width: 1em;\n",
       "  text-decoration: none !important;\n",
       "  margin-left: 1ex;\n",
       "  /* unfitted */\n",
       "  border: var(--sklearn-color-unfitted-level-1) 1pt solid;\n",
       "  color: var(--sklearn-color-unfitted-level-1);\n",
       "}\n",
       "\n",
       ".sk-estimator-doc-link.fitted,\n",
       "a:link.sk-estimator-doc-link.fitted,\n",
       "a:visited.sk-estimator-doc-link.fitted {\n",
       "  /* fitted */\n",
       "  border: var(--sklearn-color-fitted-level-1) 1pt solid;\n",
       "  color: var(--sklearn-color-fitted-level-1);\n",
       "}\n",
       "\n",
       "/* On hover */\n",
       "div.sk-estimator:hover .sk-estimator-doc-link:hover,\n",
       ".sk-estimator-doc-link:hover,\n",
       "div.sk-label-container:hover .sk-estimator-doc-link:hover,\n",
       ".sk-estimator-doc-link:hover {\n",
       "  /* unfitted */\n",
       "  background-color: var(--sklearn-color-unfitted-level-3);\n",
       "  color: var(--sklearn-color-background);\n",
       "  text-decoration: none;\n",
       "}\n",
       "\n",
       "div.sk-estimator.fitted:hover .sk-estimator-doc-link.fitted:hover,\n",
       ".sk-estimator-doc-link.fitted:hover,\n",
       "div.sk-label-container:hover .sk-estimator-doc-link.fitted:hover,\n",
       ".sk-estimator-doc-link.fitted:hover {\n",
       "  /* fitted */\n",
       "  background-color: var(--sklearn-color-fitted-level-3);\n",
       "  color: var(--sklearn-color-background);\n",
       "  text-decoration: none;\n",
       "}\n",
       "\n",
       "/* Span, style for the box shown on hovering the info icon */\n",
       ".sk-estimator-doc-link span {\n",
       "  display: none;\n",
       "  z-index: 9999;\n",
       "  position: relative;\n",
       "  font-weight: normal;\n",
       "  right: .2ex;\n",
       "  padding: .5ex;\n",
       "  margin: .5ex;\n",
       "  width: min-content;\n",
       "  min-width: 20ex;\n",
       "  max-width: 50ex;\n",
       "  color: var(--sklearn-color-text);\n",
       "  box-shadow: 2pt 2pt 4pt #999;\n",
       "  /* unfitted */\n",
       "  background: var(--sklearn-color-unfitted-level-0);\n",
       "  border: .5pt solid var(--sklearn-color-unfitted-level-3);\n",
       "}\n",
       "\n",
       ".sk-estimator-doc-link.fitted span {\n",
       "  /* fitted */\n",
       "  background: var(--sklearn-color-fitted-level-0);\n",
       "  border: var(--sklearn-color-fitted-level-3);\n",
       "}\n",
       "\n",
       ".sk-estimator-doc-link:hover span {\n",
       "  display: block;\n",
       "}\n",
       "\n",
       "/* \"?\"-specific style due to the `<a>` HTML tag */\n",
       "\n",
       "#sk-container-id-2 a.estimator_doc_link {\n",
       "  float: right;\n",
       "  font-size: 1rem;\n",
       "  line-height: 1em;\n",
       "  font-family: monospace;\n",
       "  background-color: var(--sklearn-color-background);\n",
       "  border-radius: 1rem;\n",
       "  height: 1rem;\n",
       "  width: 1rem;\n",
       "  text-decoration: none;\n",
       "  /* unfitted */\n",
       "  color: var(--sklearn-color-unfitted-level-1);\n",
       "  border: var(--sklearn-color-unfitted-level-1) 1pt solid;\n",
       "}\n",
       "\n",
       "#sk-container-id-2 a.estimator_doc_link.fitted {\n",
       "  /* fitted */\n",
       "  border: var(--sklearn-color-fitted-level-1) 1pt solid;\n",
       "  color: var(--sklearn-color-fitted-level-1);\n",
       "}\n",
       "\n",
       "/* On hover */\n",
       "#sk-container-id-2 a.estimator_doc_link:hover {\n",
       "  /* unfitted */\n",
       "  background-color: var(--sklearn-color-unfitted-level-3);\n",
       "  color: var(--sklearn-color-background);\n",
       "  text-decoration: none;\n",
       "}\n",
       "\n",
       "#sk-container-id-2 a.estimator_doc_link.fitted:hover {\n",
       "  /* fitted */\n",
       "  background-color: var(--sklearn-color-fitted-level-3);\n",
       "}\n",
       "</style><div id=\"sk-container-id-2\" class=\"sk-top-container\"><div class=\"sk-text-repr-fallback\"><pre>RandomizedSearchCV(estimator=&lt;catboost.core.CatBoostClassifier object at 0x31abe38c0&gt;,\n",
       "                   param_distributions={&#x27;learning_rate&#x27;: array([0.  , 0.05, 0.1 , 0.15, 0.2 ]),\n",
       "                                        &#x27;max_depth&#x27;: &lt;scipy.stats._distn_infrastructure.rv_discrete_frozen object at 0x31abe33e0&gt;},\n",
       "                   scoring=&#x27;accuracy&#x27;)</pre><b>In a Jupyter environment, please rerun this cell to show the HTML representation or trust the notebook. <br />On GitHub, the HTML representation is unable to render, please try loading this page with nbviewer.org.</b></div><div class=\"sk-container\" hidden><div class=\"sk-item sk-dashed-wrapped\"><div class=\"sk-label-container\"><div class=\"sk-label fitted sk-toggleable\"><input class=\"sk-toggleable__control sk-hidden--visually\" id=\"sk-estimator-id-4\" type=\"checkbox\" ><label for=\"sk-estimator-id-4\" class=\"sk-toggleable__label fitted sk-toggleable__label-arrow fitted\">&nbsp;&nbsp;RandomizedSearchCV<a class=\"sk-estimator-doc-link fitted\" rel=\"noreferrer\" target=\"_blank\" href=\"https://scikit-learn.org/1.5/modules/generated/sklearn.model_selection.RandomizedSearchCV.html\">?<span>Documentation for RandomizedSearchCV</span></a><span class=\"sk-estimator-doc-link fitted\">i<span>Fitted</span></span></label><div class=\"sk-toggleable__content fitted\"><pre>RandomizedSearchCV(estimator=&lt;catboost.core.CatBoostClassifier object at 0x31abe38c0&gt;,\n",
       "                   param_distributions={&#x27;learning_rate&#x27;: array([0.  , 0.05, 0.1 , 0.15, 0.2 ]),\n",
       "                                        &#x27;max_depth&#x27;: &lt;scipy.stats._distn_infrastructure.rv_discrete_frozen object at 0x31abe33e0&gt;},\n",
       "                   scoring=&#x27;accuracy&#x27;)</pre></div> </div></div><div class=\"sk-parallel\"><div class=\"sk-parallel-item\"><div class=\"sk-item\"><div class=\"sk-label-container\"><div class=\"sk-label fitted sk-toggleable\"><input class=\"sk-toggleable__control sk-hidden--visually\" id=\"sk-estimator-id-5\" type=\"checkbox\" ><label for=\"sk-estimator-id-5\" class=\"sk-toggleable__label fitted sk-toggleable__label-arrow fitted\">best_estimator_: CatBoostClassifier</label><div class=\"sk-toggleable__content fitted\"><pre>&lt;catboost.core.CatBoostClassifier object at 0x311ef42f0&gt;</pre></div> </div></div><div class=\"sk-serial\"><div class=\"sk-item\"><div class=\"sk-estimator fitted sk-toggleable\"><input class=\"sk-toggleable__control sk-hidden--visually\" id=\"sk-estimator-id-6\" type=\"checkbox\" ><label for=\"sk-estimator-id-6\" class=\"sk-toggleable__label fitted sk-toggleable__label-arrow fitted\">CatBoostClassifier</label><div class=\"sk-toggleable__content fitted\"><pre>&lt;catboost.core.CatBoostClassifier object at 0x311ef42f0&gt;</pre></div> </div></div></div></div></div></div></div></div></div>"
      ],
      "text/plain": [
       "RandomizedSearchCV(estimator=<catboost.core.CatBoostClassifier object at 0x31abe38c0>,\n",
       "                   param_distributions={'learning_rate': array([0.  , 0.05, 0.1 , 0.15, 0.2 ]),\n",
       "                                        'max_depth': <scipy.stats._distn_infrastructure.rv_discrete_frozen object at 0x31abe33e0>},\n",
       "                   scoring='accuracy')"
      ]
     },
     "execution_count": 99,
     "metadata": {},
     "output_type": "execute_result"
    }
   ],
   "source": [
    "#cat_out = rscv.fit(df[df.columns[:41]], df[41])"
   ]
  },
  {
   "cell_type": "code",
   "execution_count": 100,
   "id": "61c3c00d-2b9d-4e64-841f-81408cbdc8f3",
   "metadata": {},
   "outputs": [],
   "source": []
  },
  {
   "cell_type": "code",
   "execution_count": 122,
   "id": "887ac2ed-0249-40c8-a325-a78f8d8d3a97",
   "metadata": {},
   "outputs": [
    {
     "data": {
      "text/plain": [
       "{'learning_rate': 0.2, 'max_depth': 8}"
      ]
     },
     "execution_count": 122,
     "metadata": {},
     "output_type": "execute_result"
    }
   ],
   "source": [
    "rscv.best_params_"
   ]
  },
  {
   "cell_type": "code",
   "execution_count": 133,
   "id": "5abd5112-1c4c-4b2f-be12-69ae5e0ae19c",
   "metadata": {},
   "outputs": [],
   "source": []
  },
  {
   "cell_type": "code",
   "execution_count": 134,
   "id": "697555d8-e496-4cf1-852f-8d3766afa574",
   "metadata": {},
   "outputs": [],
   "source": [
    "# df_save = df.sample(50000)\n",
    "\n",
    "# columns_names = list(meta_dict.keys())\n",
    "# columns_names.append('income bracket')\n",
    "\n",
    "# df.columns = columns_names\n",
    "\n",
    "# df_save.to_csv('sample.csv',index=False)"
   ]
  },
  {
   "cell_type": "code",
   "execution_count": null,
   "id": "d895076c-129b-4fd9-a043-043b8ead8e9b",
   "metadata": {},
   "outputs": [],
   "source": []
  },
  {
   "cell_type": "code",
   "execution_count": null,
   "id": "ec0ce62a-06f5-4208-be5e-1fb93834ecdc",
   "metadata": {},
   "outputs": [],
   "source": []
  },
  {
   "cell_type": "code",
   "execution_count": 117,
   "id": "786ed58c-8132-434b-91e6-54467c1f8658",
   "metadata": {},
   "outputs": [],
   "source": []
  },
  {
   "cell_type": "markdown",
   "id": "36724f93-c979-4c75-85ff-3c2348ab31ba",
   "metadata": {},
   "source": [
    "### Let's try to keep our classes balanced\n"
   ]
  },
  {
   "cell_type": "code",
   "execution_count": 66,
   "id": "6f458ea5-e954-4168-bdb7-3800214c215d",
   "metadata": {},
   "outputs": [],
   "source": [
    "df_train_all_cat = df_train.copy()"
   ]
  },
  {
   "cell_type": "code",
   "execution_count": 67,
   "id": "babdcf53-0ec6-4232-9111-13cbd0bfa23b",
   "metadata": {
    "scrolled": true
   },
   "outputs": [
    {
     "data": {
      "text/html": [
       "<div>\n",
       "<style scoped>\n",
       "    .dataframe tbody tr th:only-of-type {\n",
       "        vertical-align: middle;\n",
       "    }\n",
       "\n",
       "    .dataframe tbody tr th {\n",
       "        vertical-align: top;\n",
       "    }\n",
       "\n",
       "    .dataframe thead th {\n",
       "        text-align: right;\n",
       "    }\n",
       "</style>\n",
       "<table border=\"1\" class=\"dataframe\">\n",
       "  <thead>\n",
       "    <tr style=\"text-align: right;\">\n",
       "      <th></th>\n",
       "      <th>age</th>\n",
       "      <th>class of worker</th>\n",
       "      <th>detailed industry recode</th>\n",
       "      <th>detailed occupation recode</th>\n",
       "      <th>education</th>\n",
       "      <th>wage per hour</th>\n",
       "      <th>enroll in edu inst last wk</th>\n",
       "      <th>marital stat</th>\n",
       "      <th>major industry code</th>\n",
       "      <th>major occupation code</th>\n",
       "      <th>...</th>\n",
       "      <th>country of birth father</th>\n",
       "      <th>country of birth mother</th>\n",
       "      <th>country of birth self</th>\n",
       "      <th>citizenship</th>\n",
       "      <th>own business or self employed</th>\n",
       "      <th>fill inc questionnaire for veteran's admin</th>\n",
       "      <th>veterans benefits</th>\n",
       "      <th>weeks worked in year</th>\n",
       "      <th>year</th>\n",
       "      <th>income bracket</th>\n",
       "    </tr>\n",
       "  </thead>\n",
       "  <tbody>\n",
       "    <tr>\n",
       "      <th>0</th>\n",
       "      <td>73</td>\n",
       "      <td>Not in universe</td>\n",
       "      <td>0</td>\n",
       "      <td>0</td>\n",
       "      <td>High school graduate</td>\n",
       "      <td>0</td>\n",
       "      <td>Not in universe</td>\n",
       "      <td>Widowed</td>\n",
       "      <td>Not in universe or children</td>\n",
       "      <td>Not in universe</td>\n",
       "      <td>...</td>\n",
       "      <td>United-States</td>\n",
       "      <td>United-States</td>\n",
       "      <td>United-States</td>\n",
       "      <td>Native- Born in the United States</td>\n",
       "      <td>0</td>\n",
       "      <td>Not in universe</td>\n",
       "      <td>2</td>\n",
       "      <td>0</td>\n",
       "      <td>95</td>\n",
       "      <td>- 50000.</td>\n",
       "    </tr>\n",
       "    <tr>\n",
       "      <th>1</th>\n",
       "      <td>58</td>\n",
       "      <td>Self-employed-not incorporated</td>\n",
       "      <td>4</td>\n",
       "      <td>34</td>\n",
       "      <td>Some college but no degree</td>\n",
       "      <td>0</td>\n",
       "      <td>Not in universe</td>\n",
       "      <td>Divorced</td>\n",
       "      <td>Construction</td>\n",
       "      <td>Precision production craft &amp; repair</td>\n",
       "      <td>...</td>\n",
       "      <td>United-States</td>\n",
       "      <td>United-States</td>\n",
       "      <td>United-States</td>\n",
       "      <td>Native- Born in the United States</td>\n",
       "      <td>0</td>\n",
       "      <td>Not in universe</td>\n",
       "      <td>2</td>\n",
       "      <td>52</td>\n",
       "      <td>94</td>\n",
       "      <td>- 50000.</td>\n",
       "    </tr>\n",
       "  </tbody>\n",
       "</table>\n",
       "<p>2 rows × 42 columns</p>\n",
       "</div>"
      ],
      "text/plain": [
       "   age                  class of worker  detailed industry recode  \\\n",
       "0   73                  Not in universe                         0   \n",
       "1   58   Self-employed-not incorporated                         4   \n",
       "\n",
       "   detailed occupation recode                    education  wage per hour  \\\n",
       "0                           0         High school graduate              0   \n",
       "1                          34   Some college but no degree              0   \n",
       "\n",
       "  enroll in edu inst last wk marital stat           major industry code  \\\n",
       "0            Not in universe      Widowed   Not in universe or children   \n",
       "1            Not in universe     Divorced                  Construction   \n",
       "\n",
       "                  major occupation code  ... country of birth father  \\\n",
       "0                       Not in universe  ...           United-States   \n",
       "1   Precision production craft & repair  ...           United-States   \n",
       "\n",
       "  country of birth mother country of birth self  \\\n",
       "0           United-States         United-States   \n",
       "1           United-States         United-States   \n",
       "\n",
       "                          citizenship own business or self employed  \\\n",
       "0   Native- Born in the United States                             0   \n",
       "1   Native- Born in the United States                             0   \n",
       "\n",
       "  fill inc questionnaire for veteran's admin  veterans benefits  \\\n",
       "0                            Not in universe                  2   \n",
       "1                            Not in universe                  2   \n",
       "\n",
       "   weeks worked in year  year income bracket  \n",
       "0                     0    95       - 50000.  \n",
       "1                    52    94       - 50000.  \n",
       "\n",
       "[2 rows x 42 columns]"
      ]
     },
     "execution_count": 67,
     "metadata": {},
     "output_type": "execute_result"
    }
   ],
   "source": [
    "df_train_all_cat.head(2)"
   ]
  },
  {
   "cell_type": "markdown",
   "id": "57578edf-648a-4424-8188-07533993188c",
   "metadata": {},
   "source": [
    "### Convert numericals to binned categoricals"
   ]
  },
  {
   "cell_type": "code",
   "execution_count": 87,
   "id": "a18071ae-c1b1-4e46-931e-49c4a6c7cd7e",
   "metadata": {},
   "outputs": [],
   "source": [
    "## TRAINING DATA\n",
    "\n",
    "df_train_all_cat = df_train.copy()\n",
    "\n",
    "# Define the bin edges (the boundaries of your brackets). These were defined from some quick quantile analysis\n",
    "age_bins = [-0.001, 20, 40, 60, 80, 120]  \n",
    "cap_gains_bins = [-0.001, 0.001, 2500, 5000, 1000000]\n",
    "cap_loss_bins = [-0.001, 0.001, 1000, 500000]\n",
    "dividens_bins = [-0.001, 0.001, 1000, 500000]\n",
    "weeks_worked_bins = [-0.001,0.001,51.999,52]\n",
    "\n",
    "# Apply the cut() function to bin the 'age' column\n",
    "df_train_all_cat['age'] = pd.cut(df_train_all_cat['age'], age_bins,right=True).astype('str')\n",
    "df_train_all_cat['capital gains'] = pd.cut(df_train_all_cat['capital gains'], cap_gains_bins).astype('str')\n",
    "df_train_all_cat['capital losses'] = pd.cut(df_train_all_cat['capital losses'], cap_loss_bins).astype('str')\n",
    "df_train_all_cat['dividends from stocks'] = pd.cut(df_train_all_cat['dividends from stocks'], dividens_bins).astype('str')\n",
    "df_train_all_cat['weeks worked in year'] = pd.cut(df_train_all_cat['weeks worked in year'], weeks_worked_bins).astype('str')\n",
    "\n",
    "\n",
    "## TEST DATA\n",
    "\n",
    "df_test_all_cat = df_test.copy()\n",
    "\n",
    "# Apply the cut() function to bin the 'age' column\n",
    "df_test_all_cat['age'] = pd.cut(df_test_all_cat['age'], age_bins,right=True).astype('str')\n",
    "df_test_all_cat['capital gains'] = pd.cut(df_test_all_cat['capital gains'], cap_gains_bins).astype('str')\n",
    "df_test_all_cat['capital losses'] = pd.cut(df_test_all_cat['capital losses'], cap_loss_bins).astype('str')\n",
    "df_test_all_cat['dividends from stocks'] = pd.cut(df_test_all_cat['dividends from stocks'], dividens_bins).astype('str')\n",
    "df_test_all_cat['weeks worked in year'] = pd.cut(df_test_all_cat['weeks worked in year'], weeks_worked_bins).astype('str')\n"
   ]
  },
  {
   "cell_type": "code",
   "execution_count": 80,
   "id": "27df908f-f1fb-4f36-af4b-84ee4c7906a1",
   "metadata": {},
   "outputs": [
    {
     "data": {
      "text/plain": [
       "Text(0.5, 0, 'Age Brackets')"
      ]
     },
     "execution_count": 80,
     "metadata": {},
     "output_type": "execute_result"
    },
    {
     "data": {
      "image/png": "[encoded data removed]",
      "text/plain": [
       "<Figure size 640x480 with 1 Axes>"
      ]
     },
     "metadata": {},
     "output_type": "display_data"
    }
   ],
   "source": [
    "bar_colors = ['tab:red', 'tab:blue', 'tab:green', 'tab:orange', 'tab:purple', 'tab:pink', 'tab:cyan']\n",
    "df_train_all_cat.groupby('age').agg('count')['capital gains'].plot(kind='bar',color=bar_colors,fontsize=12)\n",
    "\n",
    "plt.xticks(rotation=45,ha='right')\n",
    "plt.xlabel('Age Brackets',fontsize=16)"
   ]
  },
  {
   "cell_type": "code",
   "execution_count": 101,
   "id": "c80bdf9c-f20f-4925-b226-b4fad56d9ce0",
   "metadata": {},
   "outputs": [],
   "source": [
    "# Features of interest derived from analysis of prior trained model\n",
    "\n",
    "features_of_interest = ['capital gains', 'capital losses', 'dividends from stocks', 'weeks worked in year', \n",
    "'age','sex','education','detailed occupation recode','num persons worked for employer',\n",
    "'tax filer stat', 'detailed industry recode','income bracket']\n"
   ]
  },
  {
   "cell_type": "code",
   "execution_count": 70,
   "id": "326b4f79-1ae4-4ad1-a644-8b9afb772ad9",
   "metadata": {},
   "outputs": [
    {
     "data": {
      "text/plain": [
       "199523"
      ]
     },
     "execution_count": 70,
     "metadata": {},
     "output_type": "execute_result"
    }
   ],
   "source": [
    "len(df_train_all_cat[features_of_interest])"
   ]
  },
  {
   "cell_type": "code",
   "execution_count": 90,
   "id": "7f1a8ac4-cd66-4451-9a59-2d0a153bfa9f",
   "metadata": {},
   "outputs": [],
   "source": [
    "dedupped_df_train = df_train_all_cat[features_of_interest].drop_duplicates()\n",
    "FOI_df_test = df_test_all_cat[features_of_interest]"
   ]
  },
  {
   "cell_type": "code",
   "execution_count": 72,
   "id": "dc01cfea-4ce8-4c4d-a5fd-d0ad0bb6573b",
   "metadata": {},
   "outputs": [
    {
     "data": {
      "text/plain": [
       "85.58349179519684"
      ]
     },
     "execution_count": 72,
     "metadata": {},
     "output_type": "execute_result"
    }
   ],
   "source": [
    "# Percent of Target for < $50,000 \n",
    "class_counts = dedupped_df_train['income bracket'].value_counts()\n",
    "class_counts[' - 50000.']/(class_counts[' 50000+.']+class_counts[' - 50000.'])*100"
   ]
  },
  {
   "cell_type": "code",
   "execution_count": null,
   "id": "d331cc36-3d8f-4f58-acd8-049b910faf0f",
   "metadata": {},
   "outputs": [],
   "source": [
    "# Randomly sample 20% of the rows \n",
    "rows_to_drop_indices = dedupped_df_train[dedupped_df_train['income bracket'] == ' - 50000.'].sample(frac=0.8, random_state=42).index\n",
    "\n",
    "# Drop the randomly selected rows from the original dataframe\n",
    "dedupped_df_train_cleaned = dedupped_df_train.drop(rows_to_drop_indices)"
   ]
  },
  {
   "cell_type": "code",
   "execution_count": 74,
   "id": "2993189a-7de3-4437-88e8-3cde8e4dcee2",
   "metadata": {},
   "outputs": [
    {
     "data": {
      "text/plain": [
       "54.281502657792466"
      ]
     },
     "execution_count": 74,
     "metadata": {},
     "output_type": "execute_result"
    }
   ],
   "source": [
    "# Percent of Target for < $50,000 \n",
    "class_counts = dedupped_df_train_cleaned['income bracket'].value_counts() \n",
    "class_counts[' - 50000.']/(class_counts[' 50000+.']+class_counts[' - 50000.'])*100"
   ]
  },
  {
   "cell_type": "code",
   "execution_count": 75,
   "id": "6e66fee6-1720-4057-a330-2b909d04aee9",
   "metadata": {},
   "outputs": [
    {
     "data": {
      "text/plain": [
       "income bracket\n",
       "- 50000.    12152\n",
       "50000+.     10235\n",
       "Name: count, dtype: int64"
      ]
     },
     "execution_count": 75,
     "metadata": {},
     "output_type": "execute_result"
    }
   ],
   "source": [
    "class_counts"
   ]
  },
  {
   "cell_type": "code",
   "execution_count": null,
   "id": "5d090664-e05a-4138-a133-9135ec3da629",
   "metadata": {},
   "outputs": [],
   "source": []
  },
  {
   "cell_type": "markdown",
   "id": "55e4b080-3bc8-4215-a98f-cd7d6a976f49",
   "metadata": {},
   "source": [
    "## Re-Train Model"
   ]
  },
  {
   "cell_type": "code",
   "execution_count": 84,
   "id": "4d907a5e-401b-4a34-892d-a0fadf47584d",
   "metadata": {},
   "outputs": [
    {
     "name": "stdout",
     "output_type": "stream",
     "text": [
      "0:\tlearn: 0.5433143\ttotal: 5.35ms\tremaining: 21.4ms\n",
      "1:\tlearn: 0.4972923\ttotal: 9.84ms\tremaining: 14.8ms\n",
      "2:\tlearn: 0.4637988\ttotal: 12.7ms\tremaining: 8.45ms\n",
      "3:\tlearn: 0.4571371\ttotal: 15.7ms\tremaining: 3.93ms\n",
      "4:\tlearn: 0.4512248\ttotal: 18.9ms\tremaining: 0us\n"
     ]
    },
    {
     "data": {
      "text/plain": [
       "<catboost.core.CatBoostClassifier at 0x17d4b87d0>"
      ]
     },
     "execution_count": 84,
     "metadata": {},
     "output_type": "execute_result"
    }
   ],
   "source": [
    "# get all categorical columns for the cleaned data (i.e. all columns, not target)\n",
    "cat_clean_cols = list(range(len(dedupped_df_train_cleaned.columns[:-1])))\n",
    "\n",
    "# # Initialize CatBoostRegressor\n",
    "model = CatBoostClassifier(iterations=5,\n",
    "                           learning_rate=1,\n",
    "                           cat_features=cat_clean_cols,\n",
    "                           max_depth=4)\n",
    "\n",
    "# # # Fit model\n",
    "model.fit(dedupped_df_train_cleaned[dedupped_df_train_cleaned.columns[:-1]], \n",
    "          dedupped_df_train_cleaned[dedupped_df_train_cleaned.columns[-1]])\n"
   ]
  },
  {
   "cell_type": "markdown",
   "id": "0f1f6ee3-1c12-4cbe-a708-1b40df36f802",
   "metadata": {},
   "source": [
    "### Model Evaluation"
   ]
  },
  {
   "cell_type": "code",
   "execution_count": 91,
   "id": "03c3168d-825f-4fd9-a357-171d3faf80f1",
   "metadata": {},
   "outputs": [],
   "source": [
    "# Extract Evaluation (test) data\n",
    "eval_data = dedupped_df_train[FOI_df_test.columns[:-1]]\n",
    "y_true = dedupped_df_train[FOI_df_test.columns[-1]]\n",
    "\n",
    "# Generate predictions on the test data\n",
    "y_test = model.predict(eval_data)\n",
    "\n",
    "# Get predicted probabilities for each class\n",
    "preds_proba = model.predict_proba(eval_data)\n",
    "\n",
    "# Get predicted RawFormulaVal\n",
    "preds_raw = model.predict(eval_data, prediction_type='RawFormulaVal')\n"
   ]
  },
  {
   "cell_type": "code",
   "execution_count": 92,
   "id": "7e400bc3-d41d-4456-9c7b-375e76bb0ac0",
   "metadata": {},
   "outputs": [
    {
     "name": "stdout",
     "output_type": "stream",
     "text": [
      "Accuracy: 0.80376082822734\n",
      " \n",
      "              precision    recall  f1-score   support\n",
      "\n",
      "    - 50000.       0.95      0.81      0.88     60760\n",
      "     50000+.       0.40      0.77      0.53     10235\n",
      "\n",
      "    accuracy                           0.80     70995\n",
      "   macro avg       0.68      0.79      0.70     70995\n",
      "weighted avg       0.87      0.80      0.83     70995\n",
      "\n"
     ]
    }
   ],
   "source": [
    "accuracy = accuracy_score(y_true, y_test)\n",
    "print(f\"Accuracy: {accuracy}\")\n",
    "print(' ')\n",
    "print(classification_report(y_true, y_test))"
   ]
  },
  {
   "cell_type": "markdown",
   "id": "923404e0-833a-4196-b702-e79420914a8f",
   "metadata": {},
   "source": [
    "### Feature Importance"
   ]
  },
  {
   "cell_type": "code",
   "execution_count": 93,
   "id": "faace606-a3f8-45fe-82aa-83c071c0016f",
   "metadata": {},
   "outputs": [],
   "source": [
    "feat_importance = model.get_feature_importance()\n",
    "# preds_class = model.score(df_test[df_test.columns[:41]],df_test[41])\n",
    "\n",
    "# preds_class"
   ]
  },
  {
   "cell_type": "code",
   "execution_count": 94,
   "id": "1e1db9cf-ea6d-4b7d-816b-c55394844661",
   "metadata": {},
   "outputs": [
    {
     "data": {
      "text/plain": [
       "Text(0.5, 0, 'Income Bracket')"
      ]
     },
     "execution_count": 94,
     "metadata": {},
     "output_type": "execute_result"
    },
    {
     "data": {
      "image/png": "[encoded data removed]",
      "text/plain": [
       "<Figure size 640x480 with 1 Axes>"
      ]
     },
     "metadata": {},
     "output_type": "display_data"
    }
   ],
   "source": [
    "(pd.Series(model.get_feature_importance(), index=dedupped_df_train.columns[:-1])\n",
    "   .nlargest(11)\n",
    "   .plot(kind='barh'))   \n",
    "plt.xlabel('Feature Importance')\n",
    "plt.title('Class (income) Breakdown', fontsize=16)\n",
    "plt.ylabel('Count', fontsize=16)\n",
    "plt.xlabel('Income Bracket', fontsize=16)"
   ]
  },
  {
   "cell_type": "markdown",
   "id": "08bebacc-8d37-40f8-a32d-b820755e68ab",
   "metadata": {},
   "source": [
    "### Hyperparameter Tuning"
   ]
  },
  {
   "cell_type": "code",
   "execution_count": 390,
   "id": "4b0aa583-1953-4644-a0d9-af20c3f6893f",
   "metadata": {
    "scrolled": true
   },
   "outputs": [
    {
     "name": "stdout",
     "output_type": "stream",
     "text": [
      "0:\tlearn: 0.6644348\ttotal: 8.05ms\tremaining: 32.2ms\n",
      "1:\tlearn: 0.6459028\ttotal: 10.4ms\tremaining: 15.5ms\n",
      "2:\tlearn: 0.6328418\ttotal: 11.7ms\tremaining: 7.77ms\n",
      "3:\tlearn: 0.6105177\ttotal: 12.7ms\tremaining: 3.18ms\n",
      "4:\tlearn: 0.5947911\ttotal: 14ms\tremaining: 0us\n",
      "0:\tlearn: 0.6637703\ttotal: 1.66ms\tremaining: 6.63ms\n",
      "1:\tlearn: 0.6448933\ttotal: 3.12ms\tremaining: 4.69ms\n",
      "2:\tlearn: 0.6310575\ttotal: 4.6ms\tremaining: 3.06ms\n",
      "3:\tlearn: 0.6177605\ttotal: 5.56ms\tremaining: 1.39ms\n",
      "4:\tlearn: 0.5973633\ttotal: 6.57ms\tremaining: 0us\n",
      "0:\tlearn: 0.6645051\ttotal: 1.55ms\tremaining: 6.2ms\n",
      "1:\tlearn: 0.6461009\ttotal: 2.78ms\tremaining: 4.16ms\n",
      "2:\tlearn: 0.6325100\ttotal: 3.76ms\tremaining: 2.51ms\n",
      "3:\tlearn: 0.6187988\ttotal: 4.65ms\tremaining: 1.16ms\n",
      "4:\tlearn: 0.5989012\ttotal: 5.67ms\tremaining: 0us\n",
      "0:\tlearn: 0.6636572\ttotal: 1.34ms\tremaining: 5.37ms\n",
      "1:\tlearn: 0.6446010\ttotal: 2.5ms\tremaining: 3.75ms\n",
      "2:\tlearn: 0.6302173\ttotal: 3.48ms\tremaining: 2.32ms\n",
      "3:\tlearn: 0.6165179\ttotal: 4.39ms\tremaining: 1.1ms\n",
      "4:\tlearn: 0.5960969\ttotal: 5.34ms\tremaining: 0us\n",
      "0:\tlearn: 0.6632142\ttotal: 2.02ms\tremaining: 8.08ms\n",
      "1:\tlearn: 0.6438105\ttotal: 3.79ms\tremaining: 5.68ms\n",
      "2:\tlearn: 0.6285094\ttotal: 5.16ms\tremaining: 3.44ms\n",
      "3:\tlearn: 0.6154533\ttotal: 6.67ms\tremaining: 1.67ms\n",
      "4:\tlearn: 0.5940824\ttotal: 7.89ms\tremaining: 0us\n",
      "0:\tlearn: 0.6779962\ttotal: 1.39ms\tremaining: 5.57ms\n",
      "1:\tlearn: 0.6656986\ttotal: 2.61ms\tremaining: 3.91ms\n",
      "2:\tlearn: 0.6556350\ttotal: 3.46ms\tremaining: 2.31ms\n",
      "3:\tlearn: 0.6474086\ttotal: 4.28ms\tremaining: 1.07ms\n",
      "4:\tlearn: 0.6406557\ttotal: 5.14ms\tremaining: 0us\n",
      "0:\tlearn: 0.6776456\ttotal: 1.36ms\tremaining: 5.45ms\n",
      "1:\tlearn: 0.6651239\ttotal: 2.47ms\tremaining: 3.71ms\n",
      "2:\tlearn: 0.6549003\ttotal: 3.42ms\tremaining: 2.28ms\n",
      "3:\tlearn: 0.6465146\ttotal: 4.28ms\tremaining: 1.07ms\n",
      "4:\tlearn: 0.6396674\ttotal: 5.12ms\tremaining: 0us\n",
      "0:\tlearn: 0.6780333\ttotal: 1.24ms\tremaining: 4.94ms\n",
      "1:\tlearn: 0.6658565\ttotal: 2.48ms\tremaining: 3.72ms\n",
      "2:\tlearn: 0.6558717\ttotal: 3.44ms\tremaining: 2.29ms\n",
      "3:\tlearn: 0.6476490\ttotal: 4.3ms\tremaining: 1.08ms\n",
      "4:\tlearn: 0.6403756\ttotal: 5.3ms\tremaining: 0us\n",
      "0:\tlearn: 0.6775859\ttotal: 1.44ms\tremaining: 5.77ms\n",
      "1:\tlearn: 0.6649562\ttotal: 3.09ms\tremaining: 4.64ms\n",
      "2:\tlearn: 0.6547982\ttotal: 4.61ms\tremaining: 3.07ms\n",
      "3:\tlearn: 0.6463664\ttotal: 5.62ms\tremaining: 1.4ms\n",
      "4:\tlearn: 0.6386508\ttotal: 6.76ms\tremaining: 0us\n",
      "0:\tlearn: 0.6773522\ttotal: 1.59ms\tremaining: 6.34ms\n",
      "1:\tlearn: 0.6644885\ttotal: 2.7ms\tremaining: 4.05ms\n",
      "2:\tlearn: 0.6542106\ttotal: 3.56ms\tremaining: 2.37ms\n",
      "3:\tlearn: 0.6456611\ttotal: 4.43ms\tremaining: 1.11ms\n",
      "4:\tlearn: 0.6383669\ttotal: 5.38ms\tremaining: 0us\n",
      "0:\tlearn: 0.6806528\ttotal: 2.97ms\tremaining: 11.9ms\n",
      "1:\tlearn: 0.6693542\ttotal: 4.59ms\tremaining: 6.89ms\n",
      "2:\tlearn: 0.6591065\ttotal: 7.31ms\tremaining: 4.87ms\n",
      "3:\tlearn: 0.6497973\ttotal: 8.76ms\tremaining: 2.19ms\n",
      "4:\tlearn: 0.6413427\ttotal: 10.2ms\tremaining: 0us\n",
      "0:\tlearn: 0.6803053\ttotal: 2.14ms\tremaining: 8.56ms\n",
      "1:\tlearn: 0.6686899\ttotal: 4.14ms\tremaining: 6.21ms\n",
      "2:\tlearn: 0.6581519\ttotal: 6.21ms\tremaining: 4.14ms\n",
      "3:\tlearn: 0.6485914\ttotal: 7.72ms\tremaining: 1.93ms\n",
      "4:\tlearn: 0.6398991\ttotal: 9.1ms\tremaining: 0us\n",
      "0:\tlearn: 0.6811171\ttotal: 2.01ms\tremaining: 8.05ms\n",
      "1:\tlearn: 0.6701797\ttotal: 3.94ms\tremaining: 5.91ms\n",
      "2:\tlearn: 0.6602887\ttotal: 5.41ms\tremaining: 3.6ms\n",
      "3:\tlearn: 0.6505770\ttotal: 6.96ms\tremaining: 1.74ms\n",
      "4:\tlearn: 0.6413414\ttotal: 8.49ms\tremaining: 0us\n",
      "0:\tlearn: 0.6808802\ttotal: 1.97ms\tremaining: 7.86ms\n",
      "1:\tlearn: 0.6698154\ttotal: 3.7ms\tremaining: 5.55ms\n",
      "2:\tlearn: 0.6597832\ttotal: 5.3ms\tremaining: 3.53ms\n",
      "3:\tlearn: 0.6496123\ttotal: 7ms\tremaining: 1.75ms\n",
      "4:\tlearn: 0.6402872\ttotal: 8.73ms\tremaining: 0us\n",
      "0:\tlearn: 0.6804597\ttotal: 1.87ms\tremaining: 7.49ms\n",
      "1:\tlearn: 0.6690302\ttotal: 3.8ms\tremaining: 5.7ms\n",
      "2:\tlearn: 0.6586766\ttotal: 6.12ms\tremaining: 4.08ms\n",
      "3:\tlearn: 0.6486328\ttotal: 7.71ms\tremaining: 1.93ms\n",
      "4:\tlearn: 0.6391067\ttotal: 10.1ms\tremaining: 0us\n",
      "0:\tlearn: 0.6644348\ttotal: 1.27ms\tremaining: 5.08ms\n",
      "1:\tlearn: 0.6459028\ttotal: 2.37ms\tremaining: 3.56ms\n",
      "2:\tlearn: 0.6328418\ttotal: 3.34ms\tremaining: 2.22ms\n",
      "3:\tlearn: 0.6105177\ttotal: 4.31ms\tremaining: 1.08ms\n",
      "4:\tlearn: 0.5947911\ttotal: 5.17ms\tremaining: 0us\n",
      "0:\tlearn: 0.6637703\ttotal: 1.51ms\tremaining: 6.06ms\n",
      "1:\tlearn: 0.6448933\ttotal: 2.98ms\tremaining: 4.47ms\n",
      "2:\tlearn: 0.6310575\ttotal: 4.24ms\tremaining: 2.82ms\n",
      "3:\tlearn: 0.6177605\ttotal: 5.18ms\tremaining: 1.29ms\n",
      "4:\tlearn: 0.5973633\ttotal: 6.12ms\tremaining: 0us\n",
      "0:\tlearn: 0.6645051\ttotal: 1.27ms\tremaining: 5.07ms\n",
      "1:\tlearn: 0.6461009\ttotal: 2.52ms\tremaining: 3.79ms\n",
      "2:\tlearn: 0.6325100\ttotal: 3.48ms\tremaining: 2.32ms\n",
      "3:\tlearn: 0.6187988\ttotal: 4.35ms\tremaining: 1.09ms\n",
      "4:\tlearn: 0.5989012\ttotal: 5.39ms\tremaining: 0us\n",
      "0:\tlearn: 0.6636572\ttotal: 1.25ms\tremaining: 5.01ms\n",
      "1:\tlearn: 0.6446010\ttotal: 2.48ms\tremaining: 3.72ms\n",
      "2:\tlearn: 0.6302173\ttotal: 3.45ms\tremaining: 2.3ms\n",
      "3:\tlearn: 0.6165179\ttotal: 4.32ms\tremaining: 1.08ms\n",
      "4:\tlearn: 0.5960969\ttotal: 5.32ms\tremaining: 0us\n",
      "0:\tlearn: 0.6632142\ttotal: 1.31ms\tremaining: 5.23ms\n",
      "1:\tlearn: 0.6438105\ttotal: 2.52ms\tremaining: 3.78ms\n",
      "2:\tlearn: 0.6285094\ttotal: 3.4ms\tremaining: 2.27ms\n",
      "3:\tlearn: 0.6154533\ttotal: 4.46ms\tremaining: 1.12ms\n",
      "4:\tlearn: 0.5940824\ttotal: 5.45ms\tremaining: 0us\n",
      "0:\tlearn: 0.6670864\ttotal: 3.23ms\tremaining: 12.9ms\n",
      "1:\tlearn: 0.6440696\ttotal: 5.29ms\tremaining: 7.94ms\n",
      "2:\tlearn: 0.6250885\ttotal: 7.12ms\tremaining: 4.75ms\n",
      "3:\tlearn: 0.6094966\ttotal: 9.54ms\tremaining: 2.38ms\n",
      "4:\tlearn: 0.5960882\ttotal: 11.6ms\tremaining: 0us\n",
      "0:\tlearn: 0.6651105\ttotal: 3.31ms\tremaining: 13.2ms\n",
      "1:\tlearn: 0.6444506\ttotal: 5.58ms\tremaining: 8.37ms\n",
      "2:\tlearn: 0.6248408\ttotal: 7.74ms\tremaining: 5.16ms\n",
      "3:\tlearn: 0.6078206\ttotal: 10.2ms\tremaining: 2.54ms\n",
      "4:\tlearn: 0.5937841\ttotal: 12ms\tremaining: 0us\n",
      "0:\tlearn: 0.6666793\ttotal: 2.95ms\tremaining: 11.8ms\n",
      "1:\tlearn: 0.6433992\ttotal: 5.37ms\tremaining: 8.06ms\n",
      "2:\tlearn: 0.6242395\ttotal: 7.15ms\tremaining: 4.77ms\n",
      "3:\tlearn: 0.6072455\ttotal: 9.54ms\tremaining: 2.38ms\n",
      "4:\tlearn: 0.5932461\ttotal: 11.2ms\tremaining: 0us\n",
      "0:\tlearn: 0.6660811\ttotal: 4.38ms\tremaining: 17.5ms\n",
      "1:\tlearn: 0.6426234\ttotal: 6.93ms\tremaining: 10.4ms\n",
      "2:\tlearn: 0.6232911\ttotal: 8.72ms\tremaining: 5.81ms\n",
      "3:\tlearn: 0.6067247\ttotal: 11.4ms\tremaining: 2.85ms\n",
      "4:\tlearn: 0.5921963\ttotal: 13.2ms\tremaining: 0us\n",
      "0:\tlearn: 0.6654852\ttotal: 2.84ms\tremaining: 11.4ms\n",
      "1:\tlearn: 0.6417298\ttotal: 5.52ms\tremaining: 8.28ms\n",
      "2:\tlearn: 0.6221986\ttotal: 7.28ms\tremaining: 4.86ms\n",
      "3:\tlearn: 0.6049842\ttotal: 9.43ms\tremaining: 2.36ms\n",
      "4:\tlearn: 0.5908090\ttotal: 11ms\tremaining: 0us\n",
      "0:\tlearn: 0.6824773\ttotal: 2.42ms\tremaining: 9.69ms\n",
      "1:\tlearn: 0.6727976\ttotal: 4ms\tremaining: 6ms\n",
      "2:\tlearn: 0.6640434\ttotal: 5.58ms\tremaining: 3.72ms\n",
      "3:\tlearn: 0.6559009\ttotal: 7.31ms\tremaining: 1.83ms\n",
      "4:\tlearn: 0.6485210\ttotal: 8.67ms\tremaining: 0us\n",
      "0:\tlearn: 0.6822140\ttotal: 1.64ms\tremaining: 6.57ms\n",
      "1:\tlearn: 0.6723337\ttotal: 2.76ms\tremaining: 4.14ms\n",
      "2:\tlearn: 0.6633945\ttotal: 3.96ms\tremaining: 2.64ms\n",
      "3:\tlearn: 0.6551782\ttotal: 5.73ms\tremaining: 1.43ms\n",
      "4:\tlearn: 0.6477131\ttotal: 6.85ms\tremaining: 0us\n",
      "0:\tlearn: 0.6823129\ttotal: 1.87ms\tremaining: 7.5ms\n",
      "1:\tlearn: 0.6724795\ttotal: 3.41ms\tremaining: 5.11ms\n",
      "2:\tlearn: 0.6636221\ttotal: 4.89ms\tremaining: 3.26ms\n",
      "3:\tlearn: 0.6556144\ttotal: 6.18ms\tremaining: 1.54ms\n",
      "4:\tlearn: 0.6483148\ttotal: 7.28ms\tremaining: 0us\n",
      "0:\tlearn: 0.6820573\ttotal: 2.06ms\tremaining: 8.26ms\n",
      "1:\tlearn: 0.6720462\ttotal: 3.97ms\tremaining: 5.95ms\n",
      "2:\tlearn: 0.6629902\ttotal: 5.63ms\tremaining: 3.75ms\n",
      "3:\tlearn: 0.6547988\ttotal: 7.5ms\tremaining: 1.88ms\n",
      "4:\tlearn: 0.6473245\ttotal: 8.64ms\tremaining: 0us\n",
      "0:\tlearn: 0.6817543\ttotal: 1.64ms\tremaining: 6.57ms\n",
      "1:\tlearn: 0.6714976\ttotal: 3.04ms\tremaining: 4.56ms\n",
      "2:\tlearn: 0.6621592\ttotal: 4.49ms\tremaining: 2.99ms\n",
      "3:\tlearn: 0.6537606\ttotal: 6.17ms\tremaining: 1.54ms\n",
      "4:\tlearn: 0.6460544\ttotal: 7.32ms\tremaining: 0us\n",
      "0:\tlearn: 0.6537304\ttotal: 1.7ms\tremaining: 6.8ms\n",
      "1:\tlearn: 0.6275320\ttotal: 3.09ms\tremaining: 4.64ms\n",
      "2:\tlearn: 0.5982972\ttotal: 4.51ms\tremaining: 3.01ms\n",
      "3:\tlearn: 0.5774055\ttotal: 5.91ms\tremaining: 1.48ms\n",
      "4:\tlearn: 0.5618879\ttotal: 7.06ms\tremaining: 0us\n",
      "0:\tlearn: 0.6527579\ttotal: 2.01ms\tremaining: 8.05ms\n",
      "1:\tlearn: 0.6257048\ttotal: 3.64ms\tremaining: 5.46ms\n",
      "2:\tlearn: 0.6048047\ttotal: 5.17ms\tremaining: 3.45ms\n",
      "3:\tlearn: 0.5791428\ttotal: 6.98ms\tremaining: 1.74ms\n",
      "4:\tlearn: 0.5596470\ttotal: 8.34ms\tremaining: 0us\n",
      "0:\tlearn: 0.6531234\ttotal: 1.72ms\tremaining: 6.89ms\n",
      "1:\tlearn: 0.6271956\ttotal: 3.58ms\tremaining: 5.38ms\n",
      "2:\tlearn: 0.6064655\ttotal: 5.53ms\tremaining: 3.69ms\n",
      "3:\tlearn: 0.5879810\ttotal: 6.81ms\tremaining: 1.7ms\n",
      "4:\tlearn: 0.5669967\ttotal: 8.04ms\tremaining: 0us\n",
      "0:\tlearn: 0.6521789\ttotal: 1.71ms\tremaining: 6.83ms\n",
      "1:\tlearn: 0.6253972\ttotal: 3.16ms\tremaining: 4.75ms\n",
      "2:\tlearn: 0.6028072\ttotal: 4.92ms\tremaining: 3.28ms\n",
      "3:\tlearn: 0.5865526\ttotal: 6.11ms\tremaining: 1.53ms\n",
      "4:\tlearn: 0.5718708\ttotal: 7.45ms\tremaining: 0us\n",
      "0:\tlearn: 0.6510591\ttotal: 1.96ms\tremaining: 7.83ms\n",
      "1:\tlearn: 0.6236230\ttotal: 3.44ms\tremaining: 5.16ms\n",
      "2:\tlearn: 0.6021484\ttotal: 5.2ms\tremaining: 3.47ms\n",
      "3:\tlearn: 0.5834791\ttotal: 6.7ms\tremaining: 1.68ms\n",
      "4:\tlearn: 0.5613734\ttotal: 8.43ms\tremaining: 0us\n",
      "0:\tlearn: 0.6853727\ttotal: 1.28ms\tremaining: 5.13ms\n",
      "1:\tlearn: 0.6783523\ttotal: 2.4ms\tremaining: 3.6ms\n",
      "2:\tlearn: 0.6719815\ttotal: 3.22ms\tremaining: 2.14ms\n",
      "3:\tlearn: 0.6662165\ttotal: 4.58ms\tremaining: 1.14ms\n",
      "4:\tlearn: 0.6609778\ttotal: 5.82ms\tremaining: 0us\n",
      "0:\tlearn: 0.6851928\ttotal: 1.39ms\tremaining: 5.55ms\n",
      "1:\tlearn: 0.6780455\ttotal: 2.61ms\tremaining: 3.92ms\n",
      "2:\tlearn: 0.6715700\ttotal: 3.43ms\tremaining: 2.29ms\n",
      "3:\tlearn: 0.6656931\ttotal: 4.29ms\tremaining: 1.07ms\n",
      "4:\tlearn: 0.6603751\ttotal: 5.14ms\tremaining: 0us\n",
      "0:\tlearn: 0.6853917\ttotal: 1.37ms\tremaining: 5.49ms\n",
      "1:\tlearn: 0.6783885\ttotal: 2.57ms\tremaining: 3.86ms\n",
      "2:\tlearn: 0.6721113\ttotal: 3.53ms\tremaining: 2.35ms\n",
      "3:\tlearn: 0.6663725\ttotal: 4.39ms\tremaining: 1.1ms\n",
      "4:\tlearn: 0.6611268\ttotal: 5.18ms\tremaining: 0us\n",
      "0:\tlearn: 0.6851622\ttotal: 1.31ms\tremaining: 5.24ms\n",
      "1:\tlearn: 0.6779558\ttotal: 2.48ms\tremaining: 3.73ms\n",
      "2:\tlearn: 0.6715290\ttotal: 3.37ms\tremaining: 2.24ms\n",
      "3:\tlearn: 0.6656211\ttotal: 4.33ms\tremaining: 1.08ms\n",
      "4:\tlearn: 0.6603600\ttotal: 5.3ms\tremaining: 0us\n",
      "0:\tlearn: 0.6850422\ttotal: 1.44ms\tremaining: 5.78ms\n",
      "1:\tlearn: 0.6777013\ttotal: 2.72ms\tremaining: 4.08ms\n",
      "2:\tlearn: 0.6711914\ttotal: 3.59ms\tremaining: 2.4ms\n",
      "3:\tlearn: 0.6651983\ttotal: 4.48ms\tremaining: 1.12ms\n",
      "4:\tlearn: 0.6598704\ttotal: 5.33ms\tremaining: 0us\n",
      "0:\tlearn: 0.6644348\ttotal: 1.43ms\tremaining: 5.73ms\n",
      "1:\tlearn: 0.6459028\ttotal: 2.74ms\tremaining: 4.11ms\n",
      "2:\tlearn: 0.6328418\ttotal: 3.75ms\tremaining: 2.5ms\n",
      "3:\tlearn: 0.6105177\ttotal: 4.96ms\tremaining: 1.24ms\n",
      "4:\tlearn: 0.5947911\ttotal: 5.9ms\tremaining: 0us\n",
      "0:\tlearn: 0.6637703\ttotal: 1.35ms\tremaining: 5.42ms\n",
      "1:\tlearn: 0.6448933\ttotal: 2.68ms\tremaining: 4.02ms\n",
      "2:\tlearn: 0.6310575\ttotal: 3.7ms\tremaining: 2.47ms\n",
      "3:\tlearn: 0.6177605\ttotal: 4.56ms\tremaining: 1.14ms\n",
      "4:\tlearn: 0.5973633\ttotal: 5.55ms\tremaining: 0us\n",
      "0:\tlearn: 0.6645051\ttotal: 1.23ms\tremaining: 4.93ms\n",
      "1:\tlearn: 0.6461009\ttotal: 2.42ms\tremaining: 3.63ms\n",
      "2:\tlearn: 0.6325100\ttotal: 3.46ms\tremaining: 2.3ms\n",
      "3:\tlearn: 0.6187988\ttotal: 4.33ms\tremaining: 1.08ms\n",
      "4:\tlearn: 0.5989012\ttotal: 5.45ms\tremaining: 0us\n",
      "0:\tlearn: 0.6636572\ttotal: 1.22ms\tremaining: 4.87ms\n",
      "1:\tlearn: 0.6446010\ttotal: 2.41ms\tremaining: 3.62ms\n",
      "2:\tlearn: 0.6302173\ttotal: 3.46ms\tremaining: 2.31ms\n",
      "3:\tlearn: 0.6165179\ttotal: 4.43ms\tremaining: 1.11ms\n",
      "4:\tlearn: 0.5960969\ttotal: 5.5ms\tremaining: 0us\n",
      "0:\tlearn: 0.6632142\ttotal: 2.09ms\tremaining: 8.35ms\n",
      "1:\tlearn: 0.6438105\ttotal: 3.55ms\tremaining: 5.32ms\n",
      "2:\tlearn: 0.6285094\ttotal: 4.47ms\tremaining: 2.98ms\n",
      "3:\tlearn: 0.6154533\ttotal: 5.84ms\tremaining: 1.46ms\n",
      "4:\tlearn: 0.5940824\ttotal: 7.07ms\tremaining: 0us\n",
      "0:\tlearn: 0.6670864\ttotal: 2.54ms\tremaining: 10.2ms\n",
      "1:\tlearn: 0.6440696\ttotal: 4.37ms\tremaining: 6.55ms\n",
      "2:\tlearn: 0.6250885\ttotal: 7.21ms\tremaining: 4.8ms\n",
      "3:\tlearn: 0.6094966\ttotal: 9.64ms\tremaining: 2.41ms\n",
      "4:\tlearn: 0.5960882\ttotal: 11.6ms\tremaining: 0us\n",
      "0:\tlearn: 0.6651105\ttotal: 2.49ms\tremaining: 9.95ms\n",
      "1:\tlearn: 0.6444506\ttotal: 4.92ms\tremaining: 7.38ms\n",
      "2:\tlearn: 0.6248408\ttotal: 6.91ms\tremaining: 4.6ms\n",
      "3:\tlearn: 0.6078206\ttotal: 8.77ms\tremaining: 2.19ms\n",
      "4:\tlearn: 0.5937841\ttotal: 10.7ms\tremaining: 0us\n",
      "0:\tlearn: 0.6666793\ttotal: 2.1ms\tremaining: 8.41ms\n",
      "1:\tlearn: 0.6433992\ttotal: 4.16ms\tremaining: 6.24ms\n",
      "2:\tlearn: 0.6242395\ttotal: 5.78ms\tremaining: 3.85ms\n",
      "3:\tlearn: 0.6072455\ttotal: 8.53ms\tremaining: 2.13ms\n",
      "4:\tlearn: 0.5932461\ttotal: 10.5ms\tremaining: 0us\n",
      "0:\tlearn: 0.6660811\ttotal: 2.64ms\tremaining: 10.6ms\n",
      "1:\tlearn: 0.6426234\ttotal: 5.27ms\tremaining: 7.91ms\n",
      "2:\tlearn: 0.6232911\ttotal: 7.08ms\tremaining: 4.72ms\n",
      "3:\tlearn: 0.6067247\ttotal: 9.4ms\tremaining: 2.35ms\n",
      "4:\tlearn: 0.5921963\ttotal: 13.5ms\tremaining: 0us\n",
      "0:\tlearn: 0.6654852\ttotal: 2.24ms\tremaining: 8.96ms\n",
      "1:\tlearn: 0.6417298\ttotal: 4.77ms\tremaining: 7.15ms\n",
      "2:\tlearn: 0.6221986\ttotal: 6.47ms\tremaining: 4.31ms\n",
      "3:\tlearn: 0.6049842\ttotal: 8.4ms\tremaining: 2.1ms\n",
      "4:\tlearn: 0.5908090\ttotal: 10ms\tremaining: 0us\n",
      "0:\tlearn: 0.6667346\ttotal: 3.44ms\tremaining: 13.7ms\n",
      "1:\tlearn: 0.6433146\ttotal: 6.5ms\tremaining: 9.74ms\n",
      "2:\tlearn: 0.6229081\ttotal: 8.94ms\tremaining: 5.96ms\n",
      "3:\tlearn: 0.6061053\ttotal: 11.2ms\tremaining: 2.79ms\n",
      "4:\tlearn: 0.5922107\ttotal: 13.4ms\tremaining: 0us\n"
     ]
    }
   ],
   "source": [
    "# Creating the hyperparameter grid\n",
    "param_dist = { \"learning_rate\":np.linspace(0,0.2,5),\n",
    "               \"max_depth\": randint(1,5)}\n",
    "\n",
    "# # Initialize CatBoostRegressor\n",
    "cat_model = CatBoostClassifier(iterations=5,\n",
    "                           learning_rate=1,\n",
    "                           cat_features=cat_clean_cols)\n",
    "\n",
    "\n",
    "#Instantiate RandomSearchCV object\n",
    "rscv = RandomizedSearchCV(cat_model , param_dist, scoring='accuracy', cv=None)\n",
    "\n",
    "\n",
    "\n",
    "cat_out = rscv.fit(dedupped_df_train_cleaned[dedupped_df_train_cleaned.columns[:-1]], \n",
    "          dedupped_df_train_cleaned[dedupped_df_train_cleaned.columns[-1]])"
   ]
  },
  {
   "cell_type": "code",
   "execution_count": 393,
   "id": "7190a5e1-d4bf-4571-afcc-5a67cdd112d6",
   "metadata": {},
   "outputs": [
    {
     "data": {
      "text/plain": [
       "<catboost.core.CatBoostClassifier at 0x312da2e40>"
      ]
     },
     "execution_count": 393,
     "metadata": {},
     "output_type": "execute_result"
    }
   ],
   "source": [
    "cat_out.best_estimator_"
   ]
  },
  {
   "cell_type": "code",
   "execution_count": 394,
   "id": "bcebb237-f38a-4a89-851b-60f7ef438f0f",
   "metadata": {},
   "outputs": [],
   "source": [
    "# Extract Evaluation (test) data\n",
    "eval_data = dedupped_df_train[dedupped_df_train.columns[:-1]]\n",
    "y_true = dedupped_df_train[dedupped_df_train.columns[-1]]\n",
    "\n",
    "# Generate predictions on the test data\n",
    "y_test = cat_out.best_estimator_.predict(eval_data)\n",
    "\n",
    "# Get predicted probabilities for each class\n",
    "preds_proba = cat_out.best_estimator_.predict_proba(eval_data)\n",
    "\n",
    "# Get predicted RawFormulaVal\n",
    "preds_raw = cat_out.best_estimator_.predict(eval_data, prediction_type='RawFormulaVal')\n"
   ]
  },
  {
   "cell_type": "code",
   "execution_count": 102,
   "id": "a3de9bc9-eda7-4c58-b589-7d0964f130ca",
   "metadata": {},
   "outputs": [
    {
     "name": "stdout",
     "output_type": "stream",
     "text": [
      "Accuracy: 0.80376082822734\n",
      " \n",
      "              precision    recall  f1-score   support\n",
      "\n",
      "    - 50000.       0.95      0.81      0.88     60760\n",
      "     50000+.       0.40      0.77      0.53     10235\n",
      "\n",
      "    accuracy                           0.80     70995\n",
      "   macro avg       0.68      0.79      0.70     70995\n",
      "weighted avg       0.87      0.80      0.83     70995\n",
      "\n"
     ]
    }
   ],
   "source": [
    "accuracy = accuracy_score(y_true, y_test)\n",
    "print(f\"Accuracy: {accuracy}\")\n",
    "print(' ')\n",
    "print(classification_report(y_true, y_test))"
   ]
  },
  {
   "cell_type": "code",
   "execution_count": null,
   "id": "b5b53fe0-c94c-4322-895c-e0e1b24ddb13",
   "metadata": {},
   "outputs": [],
   "source": []
  },
  {
   "cell_type": "markdown",
   "id": "7ce28b31-eb95-4bc8-90a0-c7b6d0cbaa54",
   "metadata": {},
   "source": [
    "### Inspect the Age Brackets"
   ]
  },
  {
   "cell_type": "code",
   "execution_count": 97,
   "id": "2a4e1f09-be96-4cbb-a1e5-753a7258bb94",
   "metadata": {},
   "outputs": [
    {
     "data": {
      "text/plain": [
       "array([' - 50000.', ' 50000+.'], dtype=object)"
      ]
     },
     "execution_count": 97,
     "metadata": {},
     "output_type": "execute_result"
    }
   ],
   "source": [
    "dedupped_df_train_cleaned['income bracket'].unique()"
   ]
  },
  {
   "cell_type": "code",
   "execution_count": 98,
   "id": "3acd0cc9-e0eb-46ed-a18c-3518ea948c6c",
   "metadata": {},
   "outputs": [
    {
     "data": {
      "text/plain": [
       "Text(0.5, 0, 'Age Brackets')"
      ]
     },
     "execution_count": 98,
     "metadata": {},
     "output_type": "execute_result"
    },
    {
     "data": {
      "image/png": "[encoded data removed]",
      "text/plain": [
       "<Figure size 640x480 with 1 Axes>"
      ]
     },
     "metadata": {},
     "output_type": "display_data"
    }
   ],
   "source": [
    "bar_colors = ['tab:red', 'tab:blue', 'tab:green', 'tab:orange', 'tab:purple', 'tab:pink', 'tab:cyan']\n",
    "dedupped_df_train_cleaned[dedupped_df_train_cleaned['income bracket'] == ' - 50000.'].groupby('age').agg('count')['capital gains'].plot(kind='bar',color=bar_colors,fontsize=12)\n",
    "\n",
    "plt.xticks(rotation=45,ha='right')\n",
    "plt.xlabel('Age Brackets',fontsize=16)"
   ]
  },
  {
   "cell_type": "code",
   "execution_count": 100,
   "id": "fbd18de7-2c34-4a6c-a019-e13f520a7780",
   "metadata": {},
   "outputs": [
    {
     "data": {
      "text/plain": [
       "Text(0.5, 0, 'Age Brackets')"
      ]
     },
     "execution_count": 100,
     "metadata": {},
     "output_type": "execute_result"
    },
    {
     "data": {
      "image/png": "[encoded data removed]",
      "text/plain": [
       "<Figure size 640x480 with 1 Axes>"
      ]
     },
     "metadata": {},
     "output_type": "display_data"
    }
   ],
   "source": [
    "bar_colors = ['tab:red', 'tab:blue', 'tab:green', 'tab:orange', 'tab:purple', 'tab:pink', 'tab:cyan']\n",
    "dedupped_df_train_cleaned[dedupped_df_train_cleaned['income bracket'] == ' 50000+.'].groupby('age').agg('count')['capital gains'].plot(kind='bar',color=bar_colors,fontsize=12)\n",
    "\n",
    "plt.xticks(rotation=45,ha='right')\n",
    "plt.xlabel('Age Brackets',fontsize=16)"
   ]
  },
  {
   "cell_type": "code",
   "execution_count": null,
   "id": "bcf175ee-d917-4eb8-b2ed-f273c1cc9438",
   "metadata": {},
   "outputs": [],
   "source": []
  }
 ],
 "metadata": {
  "kernelspec": {
   "display_name": "Python 3 (ipykernel)",
   "language": "python",
   "name": "python3"
  },
  "language_info": {
   "codemirror_mode": {
    "name": "ipython",
    "version": 3
   },
   "file_extension": ".py",
   "mimetype": "text/x-python",
   "name": "python",
   "nbconvert_exporter": "python",
   "pygments_lexer": "ipython3",
   "version": "3.12.11"
  }
 },
 "nbformat": 4,
 "nbformat_minor": 5
}
